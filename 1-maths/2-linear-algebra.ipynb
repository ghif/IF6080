{
 "cells": [
  {
   "cell_type": "markdown",
   "metadata": {},
   "source": [
    "# Aljabar Linear dengan NumPy\n",
    "\n",
    "Aljabar linear merupakan *jantung* dari machine learning, yaitu \"bahasa utama\" untuk menjelaskan machine learning secara matematis, sekaligus jembatan untuk mengimplementasikannya dalam kode program.\n",
    "\n",
    "Bagian ini membahas beberapa konsep dasar aljabar linear beserta implementasinya dengan menggunakan NumPy.\n",
    "\n",
    "1. Vektor\n",
    "    - Penjumlahan / pengurangan\n",
    "    - Perkalian skalar-vektor\n",
    "    - Perkalian vektor-vektor: outer product, inner product\n",
    "\n",
    "2. Fungsi linear\n",
    "    - Definisi dan sifat fungsi linear\n",
    "    - Model regresi\n",
    "\n",
    "3. Norm dan jarak\n",
    "\n",
    "4. Matriks\n",
    "\n",
    "5. Metode Least squares"
   ]
  },
  {
   "cell_type": "markdown",
   "metadata": {},
   "source": [
    "## Vektor"
   ]
  },
  {
   "cell_type": "markdown",
   "metadata": {},
   "source": [
    "Vektor merupakan sebuah objek yang terdiri dari bilangan-bilangan skalar terurut. Berikut ini contoh vektor dengan anggota bilangan berjumlah 4.\n",
    "\n",
    "$$\n",
    "\\mathbf{v} = \n",
    "\\begin{bmatrix}\n",
    "-1.1 \\\\\n",
    "0.0 \\\\\n",
    "3.6 \\\\\n",
    "-7.2\n",
    "\\end{bmatrix}\n",
    "\\text{atau}\n",
    "\\begin{pmatrix}\n",
    "-1.1 \\\\\n",
    "0.0 \\\\\n",
    "3.6 \\\\\n",
    "-7.2\n",
    "\\end{pmatrix}\n",
    "$$\n",
    "\n",
    "Jumlah anggota dari vektor biasa diistilahkan dengan *size* atau *dimension*.\n",
    "\n",
    "\n",
    "Jika bilangan-bilangan skalar tersebut berjenis bilangan riil, maka sebuah vektor dapat dinyatakan sebagai anggota di ruang bilangan riil/Euclidean: $\\mathbf{v} \\in \\mathbb{R}^n$, dimana $n$ merupakan jumlah elemen atau dimensi dari vektor."
   ]
  },
  {
   "cell_type": "markdown",
   "metadata": {},
   "source": [
    "### Pembentukan Vektor\n",
    "Pada NumPy, vektor direpresentasikan dalam array 1 dimensi."
   ]
  },
  {
   "cell_type": "code",
   "execution_count": 1,
   "metadata": {},
   "outputs": [
    {
     "name": "stdout",
     "output_type": "stream",
     "text": [
      "arr: [-1.1  0.   3.6 -7.2]\n",
      "shape: (4,)\n",
      "dimension: 1\n"
     ]
    }
   ],
   "source": [
    "import numpy as np\n",
    "\n",
    "arr = np.array([-1.1, 0.0, 3.6, -7.2])\n",
    "print(f\"arr: {arr}\") # print array values\n",
    "print(f\"shape: {arr.shape}\") # print array dimension\n",
    "print(f\"dimension: {arr.ndim}\") # print number of dimensions\n"
   ]
  },
  {
   "cell_type": "markdown",
   "metadata": {},
   "source": [
    "Pembentukan vektor di atas menggunakan fungsi `array()` dengan menuliskan nilai elemen-elemen secara eksplisit. \n",
    "Adapun cara-cara lain untuk membentuk vektor:"
   ]
  },
  {
   "cell_type": "markdown",
   "metadata": {},
   "source": [
    "**Membuat array dengan elemen terurut**"
   ]
  },
  {
   "cell_type": "code",
   "execution_count": 2,
   "metadata": {},
   "outputs": [
    {
     "name": "stdout",
     "output_type": "stream",
     "text": [
      "np.arange(<start>, <stop>, <step>)\n",
      "arr: [0 1 2 3 4 5 6 7 8 9]\n",
      "arr: [2. 3. 4. 5. 6. 7. 8. 9.]\n",
      "arr: [ 4  6  8 10 12 14 16 18 20 22 24]\n",
      "arr: [24 22 20 18 16 14 12 10  8  6  4]\n"
     ]
    }
   ],
   "source": [
    "print(f\"np.arange(<start>, <stop>, <step>)\")\n",
    "# Create a vector with elements of 0-9\n",
    "arr = np.arange(10)\n",
    "print(f\"arr: {arr}\")\n",
    "\n",
    "# Create a vector with elements of 2.0 - 9.0\n",
    "arr = np.arange(2, 10, dtype=float)\n",
    "print(f\"arr: {arr}\")\n",
    "\n",
    "# Create a vector with elements between 4 - 25 with a step of 2\n",
    "arr = np.arange(4, 25, 2)\n",
    "print(f\"arr: {arr}\")\n",
    "\n",
    "# Reverse the array\n",
    "print(f\"arr: {arr[::-1]}\")"
   ]
  },
  {
   "cell_type": "code",
   "execution_count": 3,
   "metadata": {},
   "outputs": [
    {
     "name": "stdout",
     "output_type": "stream",
     "text": [
      "np.linspace(<start>, <stop>, <num>)\n",
      "arr: [ 1.2    3.525  5.85   8.175 10.5  ]\n"
     ]
    }
   ],
   "source": [
    "print(f\"np.linspace(<start>, <stop>, <num>)\")\n",
    "# Create a vector with <num> elements that spaced evenly on a interval of <start> to <stop>\n",
    "arr = np.linspace(1.2, 10.5, 5)\n",
    "print(f\"arr: {arr}\")"
   ]
  },
  {
   "cell_type": "markdown",
   "metadata": {},
   "source": [
    "**Membuat array dengan seluruh elemen bernilai 0 atau 1**"
   ]
  },
  {
   "cell_type": "code",
   "execution_count": 4,
   "metadata": {},
   "outputs": [
    {
     "name": "stdout",
     "output_type": "stream",
     "text": [
      "zeros: [0. 0. 0. 0. 0.]\n",
      "ones: [1. 1. 1. 1. 1.]\n",
      "unit: [1. 0. 0. 0. 0.]\n"
     ]
    }
   ],
   "source": [
    "zeros = np.zeros(5)\n",
    "print(f\"zeros: {zeros}\")\n",
    "\n",
    "ones = np.ones(5)\n",
    "print(f\"ones: {ones}\")\n",
    "\n",
    "# Create a unit vector\n",
    "unit = np.copy(zeros)\n",
    "unit[0] = 1\n",
    "print(f\"unit: {unit}\")\n"
   ]
  },
  {
   "cell_type": "markdown",
   "metadata": {},
   "source": [
    "**Membuat array dengan elemen secara acak**"
   ]
  },
  {
   "cell_type": "code",
   "execution_count": 5,
   "metadata": {},
   "outputs": [
    {
     "name": "stdout",
     "output_type": "stream",
     "text": [
      "Random Vector\n",
      "arr (uniform dist): [0.07691189 0.53627801 0.33144508 0.30315722 0.97508745]\n",
      "arr (normal dist): [ 1.46986782 -0.85331969 -1.2684305   0.77220813  1.15507744]\n"
     ]
    }
   ],
   "source": [
    "print(f\"Random Vector\")\n",
    "# Create a random vector with 5 elements\n",
    "arr = np.random.rand(5) # samples from uniform distribution\n",
    "print(f\"arr (uniform dist): {arr}\")\n",
    "\n",
    "arr = np.random.randn(5) # samples from normal distribution (mean=0, std=1)\n",
    "print(f\"arr (normal dist): {arr}\")\n"
   ]
  },
  {
   "cell_type": "markdown",
   "metadata": {},
   "source": [
    "### Penggabungan Vektor\n",
    "Di beberapa kasus tertentu, akan bermanfaat untuk kita dapat menuliskan vektor yang dibentuk dari penggabungan (*concatenation* atau *stacking*).\n",
    "Misal terdapat 3 vektor $\\mathbf{a} \\in \\mathbb{R}^2$, $\\mathbf{b} \\in \\mathbb{R}^3$, dan $\\mathbf{c} \\in \\mathbb{R}^4$, penggabungan 3 vektor tersebut secara berurutan dapat ditulis menjadi:\n",
    "\n",
    "$$\n",
    "\\mathbf{d} = \n",
    "\\begin{bmatrix}\n",
    "\\mathbf{a} \\\\\n",
    "\\mathbf{b} \\\\ \n",
    "\\mathbf{c} \n",
    "\\end{bmatrix} \\in \\mathbb{R}^9\n",
    "$$\n",
    "\n",
    "Kita dapat menggunakan fungsi `np.concatenate()` untuk melakukan hal tersebut."
   ]
  },
  {
   "cell_type": "code",
   "execution_count": 6,
   "metadata": {},
   "outputs": [
    {
     "name": "stdout",
     "output_type": "stream",
     "text": [
      "d ((9,)): [0 1 0 1 2 0 1 2 3]\n"
     ]
    }
   ],
   "source": [
    "a = np.arange(0, 2)\n",
    "b = np.arange(0, 3)\n",
    "c = np.arange(0, 4)\n",
    "\n",
    "d = np.concatenate((a, b, c))\n",
    "print(f\"d ({d.shape}): {d}\")"
   ]
  },
  {
   "cell_type": "markdown",
   "metadata": {},
   "source": [
    "### Subvektor\n",
    "Pada persamaan di atas, kita dapat mengatakan bahwa $\\mathbf{a}$, $\\mathbf{b}$, atau $\\mathbf{c}$ merupakan subvektor dari $\\mathbf{d}$.\n",
    "\n",
    "Kita dapat menggunakan metode *slicing* untuk mendapatkan subvektor."
   ]
  },
  {
   "cell_type": "code",
   "execution_count": 7,
   "metadata": {},
   "outputs": [
    {
     "name": "stdout",
     "output_type": "stream",
     "text": [
      "a: [0 1], b: [0 1 2], c: [0 1 2 3]\n"
     ]
    }
   ],
   "source": [
    "a = d[:2]\n",
    "b = d[2:5]\n",
    "c = d[5:]\n",
    "\n",
    "print(f\"a: {a}, b: {b}, c: {c}\")"
   ]
  },
  {
   "cell_type": "markdown",
   "metadata": {},
   "source": [
    "### Operasi Aljabar pada Vektor"
   ]
  },
  {
   "cell_type": "markdown",
   "metadata": {},
   "source": [
    "**Penjumlahan dan pengurangan**"
   ]
  },
  {
   "cell_type": "code",
   "execution_count": 8,
   "metadata": {},
   "outputs": [
    {
     "name": "stdout",
     "output_type": "stream",
     "text": [
      "a + b = [-2.00455229  0.08161666 -0.79521099 -0.73412186  0.02499802  0.75881921]\n",
      "a - b = [-4.00134198  0.73282932 -0.37366298 -1.75550463  0.22256894  1.33516388]\n"
     ]
    }
   ],
   "source": [
    "a = np.random.randn(6)\n",
    "b = np.random.randn(6)\n",
    "c = a + b\n",
    "d = a - b\n",
    "print(f\"a + b = {c}\")\n",
    "print(f\"a - b = {d}\")"
   ]
  },
  {
   "cell_type": "markdown",
   "metadata": {},
   "source": [
    "### Perkalian dan Pembagian"
   ]
  },
  {
   "cell_type": "code",
   "execution_count": 12,
   "metadata": {},
   "outputs": [
    {
     "name": "stdout",
     "output_type": "stream",
     "text": [
      "a : [-3.00294714  0.40722299 -0.58443698 -1.24481325  0.12378348  1.04699155]\n",
      "scalar * vector: [-9.00884141  1.22166897 -1.75331095 -3.73443974  0.37135043  3.14097464]\n",
      "vector / scalar: [-1.00098238  0.135741   -0.19481233 -0.41493775  0.04126116  0.34899718]\n"
     ]
    }
   ],
   "source": [
    "\n",
    "print(f\"a : {a}\")\n",
    "c = 3 * a # scalar * vector\n",
    "print(f\"scalar * vector: {c}\")\n",
    "\n",
    "c = a / 3 # vector / scalar\n",
    "print(f\"vector / scalar: {c}\")"
   ]
  },
  {
   "cell_type": "markdown",
   "metadata": {},
   "source": [
    "### Inner Product\n",
    "\n",
    "Diketahui 2 buah vektor $\\mathbf{a}, \\mathbf{b} \\in \\mathbb{R}^m$, *inner product* dari kedua vektor tersebut adalah\n",
    "\n",
    "$$\n",
    "c = \\langle \\mathbf{a}, \\mathbf{b} \\rangle = \\mathbf{a}^\\top \\mathbf{b} = \\sum_{i=1}^m a_i b_i \\in \\mathbb{R}\n",
    "$$"
   ]
  },
  {
   "cell_type": "markdown",
   "metadata": {},
   "source": [
    "Berikut beberapa cara untuk menghitung inner product dengan NumPy."
   ]
  },
  {
   "cell_type": "code",
   "execution_count": 10,
   "metadata": {},
   "outputs": [
    {
     "name": "stdout",
     "output_type": "stream",
     "text": [
      "c1: -3.95719461029908, c2: -3.95719461029908, c3: -3.95719461029908\n"
     ]
    }
   ],
   "source": [
    "# Some ways to calculate the inner product of two vectors\n",
    "c1 = np.inner(a, b)\n",
    "c2 = np.dot(a, b)\n",
    "c3 = a @ b\n",
    "\n",
    "print(f\"c1: {c1}, c2: {c2}, c3: {c3}\")"
   ]
  },
  {
   "cell_type": "markdown",
   "metadata": {},
   "source": [
    "#"
   ]
  },
  {
   "cell_type": "markdown",
   "metadata": {},
   "source": [
    "**Net Present Value (NPV)**. Sebagai contoh, berikut penggunaan inner product untuk menghitung angka NPV dari suatu vektor *cash flow* $c$ dengan *interest rate* $r$."
   ]
  },
  {
   "cell_type": "code",
   "execution_count": 11,
   "metadata": {},
   "outputs": [
    {
     "name": "stdout",
     "output_type": "stream",
     "text": [
      "c: [0.1 0.1 0.1 1.1]\n",
      "d: [1.         0.95238095 0.90702948 0.8638376 ]\n",
      "NPV: 1.236162401468524\n"
     ]
    }
   ],
   "source": [
    "c = np.array([0.1, 0.1, 0.1, 1.1])\n",
    "n = len(c)\n",
    "r = 0.05 # 5% per-period interest rate\n",
    "d = np.array([(1+r)**-i for i in range(n)])\n",
    "print(f\"c: {c}\")\n",
    "print(f\"d: {d}\")\n",
    "NPV = c @ d\n",
    "print(f\"NPV: {NPV}\")"
   ]
  },
  {
   "cell_type": "markdown",
   "metadata": {},
   "source": [
    "## Fungsi Linear"
   ]
  },
  {
   "cell_type": "markdown",
   "metadata": {},
   "source": [
    "Fungsi merupakan cara untuk memetakan suatu nilai atau objek tertentu ke nilai yang lain. Notasi fungsi $f: \\mathbb{R}^m \\rightarrow \\mathbb{R}$ berarti pemetaan nilai dari vektor berdimensi $m$ menjadi suatu nilai skalar.\n",
    "\n",
    "Sebagai contoh, misalkan terdapat vektor $\\mathbf{x} = (x_1, \\ldots, x_4)$, berikut salah satu bentuk fungsi yang mungkin untuk memetakan ke nilai skalar:\n",
    "\n",
    "$$\n",
    "y = f(\\mathbf{x}) = x_1 + x_2 - x^2_4\n",
    "$$\n",
    "\n",
    "Python menyediakan beberapa cara untuk mendefinisikan fungsi."
   ]
  },
  {
   "cell_type": "markdown",
   "metadata": {},
   "source": [
    "**Lambda function**: fungsi yang didefinisikan tanpa nama."
   ]
  },
  {
   "cell_type": "code",
   "execution_count": 13,
   "metadata": {},
   "outputs": [
    {
     "data": {
      "text/plain": [
       "-5.0"
      ]
     },
     "execution_count": 13,
     "metadata": {},
     "output_type": "execute_result"
    }
   ],
   "source": [
    "f = lambda x: x[0] + x[1] - x[3] ** 2\n",
    "f([-1.0, 0.0, 1.0, 2.0])"
   ]
  },
  {
   "cell_type": "markdown",
   "metadata": {},
   "source": [
    "**def function**: pendefinisian fungsi untuk kebutuhan yang lebih kompleks, dapat mengakomodasi multi-input dan multi-output."
   ]
  },
  {
   "cell_type": "code",
   "execution_count": 14,
   "metadata": {},
   "outputs": [
    {
     "data": {
      "text/plain": [
       "-5.0"
      ]
     },
     "execution_count": 14,
     "metadata": {},
     "output_type": "execute_result"
    }
   ],
   "source": [
    "def simple_function(x):\n",
    "    \"\"\"\n",
    "    Args:\n",
    "        x (ndarray): a vector of length 4\n",
    "    \n",
    "    Returns:\n",
    "        y (float): a scalar value\n",
    "    \"\"\"\n",
    "    y = x[0] + x[1] - x[3] ** 2\n",
    "    return y\n",
    "\n",
    "simple_function([-1.0, 0.0, 1.0, 2.0])"
   ]
  },
  {
   "cell_type": "markdown",
   "metadata": {},
   "source": [
    "### Superposisi\n",
    "\n",
    "Superposisi merupakan sebuah sifat yang dapat memvalidasi apakah suatu fungsi merupakan fungsi linear. Misal terdapat vektor $\\mathbf{x}, \\mathbf{y} \\in \\mathbb{R}^m$, skalar $\\alpha, \\beta \\in \\mathbb{R}$, dan fungsi $f: \\mathbb{R}^m \\rightarrow \\mathbb{R}$, persamaan superposisi dapat ditulis sbb:\n",
    "\n",
    "$$\n",
    "f(\\alpha \\mathbf{x} + \\beta \\mathbf{y}) = \\alpha f(\\mathbf{x}) + \\beta f(\\mathbf{y}).\n",
    "$$\n",
    "\n",
    "*Penting*: fungsi $f: \\mathbb{R}^m \\rightarrow \\mathbb{R}$ merupakan fungsi linear jika memenuhi sifat pada persamaan di atas!\n",
    "\n",
    "Contoh: cek linearitas fungsi inner product $f(\\mathbf{x}) = \\mathbf{a}^\\top \\mathbf{x} $."
   ]
  },
  {
   "cell_type": "code",
   "execution_count": 24,
   "metadata": {},
   "outputs": [
    {
     "name": "stdout",
     "output_type": "stream",
     "text": [
      "a: [1. 2. 3. 4. 5.]\n",
      "x: [0.92892014 0.42410445 0.97988857 0.27123336 0.01533908]\n",
      "lhs: 53.17965615340909\n",
      "rhs: 53.179656153409084\n",
      "False\n"
     ]
    }
   ],
   "source": [
    "f = lambda a, x: a @ x\n",
    "\n",
    "a = np.array([1.0, 2.0, 3.0, 4.0, 5.0])\n",
    "x = np.random.random(5)\n",
    "y = np.random.random(5)\n",
    "\n",
    "alpha = 3.0\n",
    "beta = 5.0\n",
    "\n",
    "print(f\"a: {a}\")\n",
    "print(f\"x: {x}\")\n",
    "\n",
    "lhs = f(a, alpha * x + beta * y)\n",
    "print(f\"lhs: {lhs}\")\n",
    "\n",
    "rhs = alpha * f(a, x) + beta * f(a, y)\n",
    "print(f\"rhs: {rhs}\")\n",
    "\n",
    "print(lhs == rhs)"
   ]
  },
  {
   "cell_type": "markdown",
   "metadata": {},
   "source": [
    "### Aproksimasi Taylor"
   ]
  },
  {
   "cell_type": "markdown",
   "metadata": {},
   "source": [
    "Dalam banyak kasus, fungsi skalar $f: \\mathbb{R}^m \\rightarrow \\mathbb{R}$ dapat dan perlu diaproksimasi dengan fungsi linear atau *affine*, dengan syarat fungsi $f$ dapat diturunkan (*differentiable*). Aproksimasi Taylor menggunakan turunan untuk membentuk suatu fungsi linear $g(\\mathbf{x})$ yang mendekati fungsi $f(\\mathbf{x})$ (yang tidak harus bersifat linear).\n",
    "\n",
    "(First-order) aproksimasi Taylor dari fungsi $f$ pada titik ($\\mathbf{z} \\in \\mathbb{R}^m$) atau yang dekat dengan itu didefinisikan sbb:\n",
    "\n",
    "$$\n",
    "f^\\prime(\\mathbf{x}) = f(\\mathbf{z}) + \\frac{\\partial f}{\\partial x_1} (z_1) + \\frac{\\partial f}{\\partial x_2} (z_2) + \\cdots + \\frac{\\partial f}{\\partial x_m} (z_m)\n",
    "$$\n",
    "\n",
    "Dalam format vektor dapat dituliskan menjadi:\n",
    "$$\n",
    "f^\\prime(\\mathbf{x}) = f(\\mathbf{z}) + \\nabla_x f(\\mathbf{z})^\\top (\\mathbf{x} - \\mathbf{z})\n",
    "$$\n",
    "\n",
    "dimana \n",
    "$\n",
    "\\nabla_x f(\\mathbf{z})= \n",
    "(\n",
    "\\frac{\\partial f}{\\partial x_1 (z_1)},\n",
    "\\frac{\\partial f}{\\partial x_1 (z_2)},\n",
    "\\cdots,\n",
    " \\frac{\\partial f}{\\partial x_m (z_m)}\n",
    ")\n",
    "$ merupakan vektor gradien."
   ]
  },
  {
   "cell_type": "markdown",
   "metadata": {},
   "source": [
    "**Contoh**. Terdapat sebuah fungsi non-linear $f: \\mathbb{R}^2 \\rightarrow \\mathbb{R}$,\n",
    "$$f(\\mathbf{x}) = x_1 + \\exp(x_2 - x_1)$$\n",
    "\n",
    "Fungsi linear hasil aproksimasi Taylor (first-order) pada titik atau yang dekat dengan $\\mathbf{z} = (1, 2)$ adalah sbb:\n",
    "$$\n",
    "f^\\prime(\\mathbf{x}) = f((1, 2)) + \\nabla_x f((1, 2))^\\top (\\mathbf{x} - (1, 2)) = 3.7183 + (-1.7183, 2.7183)^\\top (\\mathbf{x} - (1,2))\n",
    "$$.\n",
    "\n",
    "Dapat dicek bahwa:\n",
    "- $\\mathbf{x} = (1,2) \\rightarrow$  $f(\\mathbf{x}) = 3.7183$ dan $f^\\prime(\\mathbf{x}) = 3.7183$ \n",
    "- $\\mathbf{x} = (0.96,1.98) \\rightarrow$  $f(\\mathbf{x}) = 3.7332$ dan $f^\\prime(\\mathbf{x}) = 3.7326$ \n",
    "- $\\mathbf{x} = (1.10,2.11) \\rightarrow$  $f(\\mathbf{x}) = 3.8456$ dan $f^\\prime(\\mathbf{x}) = 3.8455$ "
   ]
  },
  {
   "cell_type": "code",
   "execution_count": 33,
   "metadata": {},
   "outputs": [],
   "source": [
    "# Define f function\n",
    "f = lambda x: x[0] + np.exp(x[1] - x[0])\n",
    "\n",
    "# Define the first-order gradient of f\n",
    "grad_f = lambda z: np.array([1 - np.exp(z[1] - z[0]), np.exp(z[1] - z[0])])\n",
    "\n",
    "# Taylor approximation\n",
    "z = np.array([1.0, 2.0])\n",
    "f_prime = lambda x: f(z) + grad_f(z) @ (x - z)"
   ]
  },
  {
   "cell_type": "code",
   "execution_count": 35,
   "metadata": {},
   "outputs": [
    {
     "name": "stdout",
     "output_type": "stream",
     "text": [
      "[1. 2.] -> 3.718281828459045 and 3.718281828459045\n",
      "[0.96 1.98] -> 3.7331947639642977 and 3.732647465028226\n",
      "[1.1  2.11] -> 3.845601015016916 and 3.845464646743635\n"
     ]
    }
   ],
   "source": [
    "x = np.array([1.0, 2.0])\n",
    "print(f\"{x} -> {f(x)} and {f_prime(x)}\")\n",
    "\n",
    "x = np.array([0.96, 1.98])\n",
    "print(f\"{x} -> {f(x)} and {f_prime(x)}\")\n",
    "\n",
    "x = np.array([1.10, 2.11])\n",
    "print(f\"{x} -> {f(x)} and {f_prime(x)}\")"
   ]
  },
  {
   "cell_type": "markdown",
   "metadata": {},
   "source": [
    "## Norm dan Jarak"
   ]
  },
  {
   "cell_type": "markdown",
   "metadata": {},
   "source": [
    "## Matriks"
   ]
  },
  {
   "cell_type": "markdown",
   "metadata": {},
   "source": [
    "## Metode Least Squares"
   ]
  }
 ],
 "metadata": {
  "kernelspec": {
   "display_name": "Python 3",
   "language": "python",
   "name": "python3"
  },
  "language_info": {
   "codemirror_mode": {
    "name": "ipython",
    "version": 3
   },
   "file_extension": ".py",
   "mimetype": "text/x-python",
   "name": "python",
   "nbconvert_exporter": "python",
   "pygments_lexer": "ipython3",
   "version": "3.10.5"
  },
  "orig_nbformat": 4
 },
 "nbformat": 4,
 "nbformat_minor": 2
}
