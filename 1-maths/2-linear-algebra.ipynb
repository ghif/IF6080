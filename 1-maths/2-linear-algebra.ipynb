{
 "cells": [
  {
   "cell_type": "markdown",
   "metadata": {},
   "source": [
    "# Aljabar Linear dengan NumPy\n",
    "\n",
    "Aljabar linear merupakan *jantung* dari machine learning, yaitu \"bahasa utama\" untuk menjelaskan machine learning secara matematis, sekaligus jembatan untuk mengimplementasikannya dalam kode program.\n",
    "\n",
    "Bagian ini membahas beberapa konsep dasar aljabar linear beserta implementasinya dengan menggunakan NumPy.\n",
    "\n",
    "1. Vektor\n",
    "    - Penjumlahan / pengurangan\n",
    "    - Perkalian skalar-vektor\n",
    "    - Perkalian vektor-vektor: outer product, inner product\n",
    "\n",
    "2. Fungsi linear\n",
    "    - Definisi dan sifat fungsi linear\n",
    "    - Model regresi\n",
    "\n",
    "3. Norm dan jarak\n",
    "\n",
    "4. Matriks\n",
    "\n",
    "5. Metode Least squares"
   ]
  },
  {
   "cell_type": "markdown",
   "metadata": {},
   "source": [
    "## Vektor"
   ]
  },
  {
   "cell_type": "markdown",
   "metadata": {},
   "source": [
    "## Fungsi Linear"
   ]
  },
  {
   "cell_type": "markdown",
   "metadata": {},
   "source": [
    "## Norm dan Jarak"
   ]
  },
  {
   "cell_type": "markdown",
   "metadata": {},
   "source": [
    "## Matriks"
   ]
  },
  {
   "cell_type": "markdown",
   "metadata": {},
   "source": [
    "## Metode Least Squares"
   ]
  }
 ],
 "metadata": {
  "language_info": {
   "name": "python"
  },
  "orig_nbformat": 4
 },
 "nbformat": 4,
 "nbformat_minor": 2
}
