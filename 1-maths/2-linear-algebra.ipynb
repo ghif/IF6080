{
 "cells": [
  {
   "cell_type": "markdown",
   "metadata": {},
   "source": [
    "# Aljabar Linear dengan NumPy\n",
    "\n",
    "Aljabar linear merupakan *jantung* dari machine learning, yaitu \"bahasa utama\" untuk menjelaskan machine learning secara matematis, sekaligus jembatan untuk mengimplementasikannya dalam kode program.\n",
    "\n",
    "Bagian ini membahas beberapa konsep dasar aljabar linear beserta implementasinya dengan menggunakan NumPy.\n",
    "\n",
    "1. Vektor\n",
    "    - Penjumlahan / pengurangan\n",
    "    - Perkalian skalar-vektor\n",
    "    - Perkalian vektor-vektor: outer product, inner product\n",
    "\n",
    "2. Fungsi linear\n",
    "    - Definisi dan sifat fungsi linear\n",
    "    - Model regresi\n",
    "\n",
    "3. Norm dan jarak\n",
    "\n",
    "4. Matriks\n",
    "\n",
    "5. Metode Least squares"
   ]
  },
  {
   "cell_type": "markdown",
   "metadata": {},
   "source": [
    "## Vektor"
   ]
  },
  {
   "cell_type": "markdown",
   "metadata": {},
   "source": [
    "Vektor merupakan sebuah objek yang terdiri dari bilangan-bilangan skalar terurut. Berikut ini contoh vektor dengan anggota bilangan berjumlah 4.\n",
    "\n",
    "$$\n",
    "\\mathbf{v} = \n",
    "\\begin{bmatrix}\n",
    "-1.1 \\\\\n",
    "0.0 \\\\\n",
    "3.6 \\\\\n",
    "-7.2\n",
    "\\end{bmatrix}\n",
    "\\text{atau}\n",
    "\\begin{pmatrix}\n",
    "-1.1 \\\\\n",
    "0.0 \\\\\n",
    "3.6 \\\\\n",
    "-7.2\n",
    "\\end{pmatrix}\n",
    "$$\n",
    "\n",
    "Jumlah anggota dari vektor biasa diistilahkan dengan *size* atau *dimension*.\n",
    "\n",
    "\n",
    "Jika bilangan-bilangan skalar tersebut berjenis bilangan riil, maka sebuah vektor dapat dinyatakan sebagai anggota di ruang bilangan riil/Euclidean: $\\mathbf{v} \\in \\mathbb{R}^n$, dimana $n$ merupakan jumlah elemen atau dimensi dari vektor."
   ]
  },
  {
   "cell_type": "markdown",
   "metadata": {},
   "source": [
    "### Pembentukan Vektor\n",
    "Pada NumPy, vektor direpresentasikan dalam array 1 dimensi."
   ]
  },
  {
   "cell_type": "code",
   "execution_count": 2,
   "metadata": {},
   "outputs": [
    {
     "name": "stdout",
     "output_type": "stream",
     "text": [
      "arr: [-1.1  0.   3.6 -7.2]\n",
      "shape: (4,)\n",
      "dimension: 1\n"
     ]
    }
   ],
   "source": [
    "import numpy as np\n",
    "\n",
    "arr = np.array([-1.1, 0.0, 3.6, -7.2])\n",
    "print(f\"arr: {arr}\") # print array values\n",
    "print(f\"shape: {arr.shape}\") # print array dimension\n",
    "print(f\"dimension: {arr.ndim}\") # print number of dimensions\n"
   ]
  },
  {
   "cell_type": "markdown",
   "metadata": {},
   "source": [
    "Pembentukan vektor di atas menggunakan fungsi `array()` dengan menuliskan nilai elemen-elemen secara eksplisit. \n",
    "Adapun cara-cara lain untuk membentuk vektor:"
   ]
  },
  {
   "cell_type": "markdown",
   "metadata": {},
   "source": [
    "**Membuat array dengan elemen terurut**"
   ]
  },
  {
   "cell_type": "code",
   "execution_count": 3,
   "metadata": {},
   "outputs": [
    {
     "name": "stdout",
     "output_type": "stream",
     "text": [
      "np.arange(<start>, <stop>, <step>)\n",
      "arr: [0 1 2 3 4 5 6 7 8 9]\n",
      "arr: [2. 3. 4. 5. 6. 7. 8. 9.]\n",
      "arr: [ 4  6  8 10 12 14 16 18 20 22 24]\n",
      "arr: [24 22 20 18 16 14 12 10  8  6  4]\n"
     ]
    }
   ],
   "source": [
    "print(f\"np.arange(<start>, <stop>, <step>)\")\n",
    "# Create a vector with elements of 0-9\n",
    "arr = np.arange(10)\n",
    "print(f\"arr: {arr}\")\n",
    "\n",
    "# Create a vector with elements of 2.0 - 9.0\n",
    "arr = np.arange(2, 10, dtype=float)\n",
    "print(f\"arr: {arr}\")\n",
    "\n",
    "# Create a vector with elements between 4 - 25 with a step of 2\n",
    "arr = np.arange(4, 25, 2)\n",
    "print(f\"arr: {arr}\")\n",
    "\n",
    "# Reverse the array\n",
    "print(f\"arr: {arr[::-1]}\")"
   ]
  },
  {
   "cell_type": "code",
   "execution_count": 4,
   "metadata": {},
   "outputs": [
    {
     "name": "stdout",
     "output_type": "stream",
     "text": [
      "np.linspace(<start>, <stop>, <num>)\n",
      "arr: [ 1.2    3.525  5.85   8.175 10.5  ]\n"
     ]
    }
   ],
   "source": [
    "print(f\"np.linspace(<start>, <stop>, <num>)\")\n",
    "# Create a vector with <num> elements that spaced evenly on a interval of <start> to <stop>\n",
    "arr = np.linspace(1.2, 10.5, 5)\n",
    "print(f\"arr: {arr}\")"
   ]
  },
  {
   "cell_type": "markdown",
   "metadata": {},
   "source": [
    "**Membuat array dengan seluruh elemen bernilai 0 atau 1**"
   ]
  },
  {
   "cell_type": "code",
   "execution_count": 5,
   "metadata": {},
   "outputs": [
    {
     "name": "stdout",
     "output_type": "stream",
     "text": [
      "zeros: [0. 0. 0. 0. 0.]\n",
      "ones: [1. 1. 1. 1. 1.]\n",
      "unit: [1. 0. 0. 0. 0.]\n"
     ]
    }
   ],
   "source": [
    "zeros = np.zeros(5)\n",
    "print(f\"zeros: {zeros}\")\n",
    "\n",
    "ones = np.ones(5)\n",
    "print(f\"ones: {ones}\")\n",
    "\n",
    "# Create a unit vector\n",
    "unit = np.copy(zeros)\n",
    "unit[0] = 1\n",
    "print(f\"unit: {unit}\")\n"
   ]
  },
  {
   "cell_type": "markdown",
   "metadata": {},
   "source": [
    "**Membuat array dengan elemen secara acak**"
   ]
  },
  {
   "cell_type": "code",
   "execution_count": 6,
   "metadata": {},
   "outputs": [
    {
     "name": "stdout",
     "output_type": "stream",
     "text": [
      "Random Vector\n",
      "arr (uniform dist): [0.72682107 0.15589636 0.39505563 0.37992226 0.59256313]\n",
      "arr (normal dist): [-0.25679187  0.90781298 -0.4846925  -0.03250499 -0.24325056]\n"
     ]
    }
   ],
   "source": [
    "print(f\"Random Vector\")\n",
    "# Create a random vector with 5 elements\n",
    "arr = np.random.rand(5) # samples from uniform distribution\n",
    "print(f\"arr (uniform dist): {arr}\")\n",
    "\n",
    "arr = np.random.randn(5) # samples from normal distribution (mean=0, std=1)\n",
    "print(f\"arr (normal dist): {arr}\")\n"
   ]
  },
  {
   "cell_type": "markdown",
   "metadata": {},
   "source": [
    "### Penggabungan Vektor\n",
    "Di beberapa kasus tertentu, akan bermanfaat untuk kita dapat menuliskan vektor yang dibentuk dari penggabungan (*concatenation* atau *stacking*).\n",
    "Misal terdapat 3 vektor $\\mathbf{a} \\in \\mathbb{R}^2$, $\\mathbf{b} \\in \\mathbb{R}^3$, dan $\\mathbf{c} \\in \\mathbb{R}^4$, penggabungan 3 vektor tersebut secara berurutan dapat ditulis menjadi:\n",
    "\n",
    "$$\n",
    "\\mathbf{d} = \n",
    "\\begin{bmatrix}\n",
    "\\mathbf{a} \\\\\n",
    "\\mathbf{b} \\\\ \n",
    "\\mathbf{c} \n",
    "\\end{bmatrix} \\in \\mathbb{R}^9\n",
    "$$\n",
    "\n",
    "Kita dapat menggunakan fungsi `np.concatenate()` untuk melakukan hal tersebut."
   ]
  },
  {
   "cell_type": "code",
   "execution_count": 7,
   "metadata": {},
   "outputs": [
    {
     "name": "stdout",
     "output_type": "stream",
     "text": [
      "d ((9,)): [0 1 0 1 2 0 1 2 3]\n"
     ]
    }
   ],
   "source": [
    "a = np.arange(0, 2)\n",
    "b = np.arange(0, 3)\n",
    "c = np.arange(0, 4)\n",
    "\n",
    "d = np.concatenate((a, b, c))\n",
    "print(f\"d ({d.shape}): {d}\")"
   ]
  },
  {
   "cell_type": "markdown",
   "metadata": {},
   "source": [
    "### Subvektor\n",
    "Pada persamaan di atas, kita dapat mengatakan bahwa $\\mathbf{a}$, $\\mathbf{b}$, atau $\\mathbf{c}$ merupakan subvektor dari $\\mathbf{d}$.\n",
    "\n",
    "Kita dapat menggunakan metode *slicing* untuk mendapatkan subvektor."
   ]
  },
  {
   "cell_type": "code",
   "execution_count": 8,
   "metadata": {},
   "outputs": [
    {
     "name": "stdout",
     "output_type": "stream",
     "text": [
      "a: [0 1], b: [0 1 2], c: [0 1 2 3]\n"
     ]
    }
   ],
   "source": [
    "a = d[:2]\n",
    "b = d[2:5]\n",
    "c = d[5:]\n",
    "\n",
    "print(f\"a: {a}, b: {b}, c: {c}\")"
   ]
  },
  {
   "cell_type": "markdown",
   "metadata": {},
   "source": [
    "### Operasi Aljabar pada Vektor"
   ]
  },
  {
   "cell_type": "markdown",
   "metadata": {},
   "source": [
    "**Penjumlahan dan pengurangan**"
   ]
  },
  {
   "cell_type": "code",
   "execution_count": 9,
   "metadata": {},
   "outputs": [
    {
     "name": "stdout",
     "output_type": "stream",
     "text": [
      "a + b = [-1.51763853 -0.4585183  -2.3193158   2.90176529  2.58844194  0.3954397 ]\n",
      "a - b = [-1.09806878  1.26856265 -0.97021636  2.3788226   0.17665542 -2.2340308 ]\n"
     ]
    }
   ],
   "source": [
    "a = np.random.randn(6)\n",
    "b = np.random.randn(6)\n",
    "c = a + b\n",
    "d = a - b\n",
    "print(f\"a + b = {c}\")\n",
    "print(f\"a - b = {d}\")"
   ]
  },
  {
   "cell_type": "code",
   "execution_count": 11,
   "metadata": {},
   "outputs": [
    {
     "ename": "ValueError",
     "evalue": "operands could not be broadcast together with shapes (6,) (3,) ",
     "output_type": "error",
     "traceback": [
      "\u001b[0;31m---------------------------------------------------------------------------\u001b[0m",
      "\u001b[0;31mValueError\u001b[0m                                Traceback (most recent call last)",
      "\u001b[1;32m/Users/mghifary/Work/govtech/codes/AI/IF6080/1-maths/2-linear-algebra.ipynb Cell 21\u001b[0m in \u001b[0;36m2\n\u001b[1;32m      <a href='vscode-notebook-cell:/Users/mghifary/Work/govtech/codes/AI/IF6080/1-maths/2-linear-algebra.ipynb#X35sZmlsZQ%3D%3D?line=0'>1</a>\u001b[0m e \u001b[39m=\u001b[39m np\u001b[39m.\u001b[39mrandom\u001b[39m.\u001b[39mrand(\u001b[39m3\u001b[39m)\n\u001b[0;32m----> <a href='vscode-notebook-cell:/Users/mghifary/Work/govtech/codes/AI/IF6080/1-maths/2-linear-algebra.ipynb#X35sZmlsZQ%3D%3D?line=1'>2</a>\u001b[0m \u001b[39mprint\u001b[39m(a \u001b[39m+\u001b[39m e)\n",
      "\u001b[0;31mValueError\u001b[0m: operands could not be broadcast together with shapes (6,) (3,) "
     ]
    }
   ],
   "source": [
    "e = np.random.rand(3)\n",
    "print(a + e) # not working!"
   ]
  },
  {
   "cell_type": "markdown",
   "metadata": {},
   "source": [
    "### Perkalian dan Pembagian"
   ]
  },
  {
   "cell_type": "code",
   "execution_count": 13,
   "metadata": {},
   "outputs": [
    {
     "name": "stdout",
     "output_type": "stream",
     "text": [
      "a : [-1.30785365  0.40502218 -1.64476608  2.64029394  1.38254868 -0.91929555]\n",
      "scalar * vector: [-3.92356096  1.21506653 -4.93429824  7.92088183  4.14764603 -2.75788665]\n",
      "vector / scalar: [-0.43595122  0.13500739 -0.54825536  0.88009798  0.46084956 -0.30643185]\n"
     ]
    }
   ],
   "source": [
    "\n",
    "print(f\"a : {a}\")\n",
    "c = 3 * a # scalar * vector\n",
    "print(f\"scalar * vector: {c}\")\n",
    "\n",
    "c = a / 3 # vector / scalar\n",
    "print(f\"vector / scalar: {c}\")"
   ]
  },
  {
   "cell_type": "markdown",
   "metadata": {},
   "source": [
    "### Inner Product\n",
    "\n",
    "Diketahui 2 buah vektor $\\mathbf{a}, \\mathbf{b} \\in \\mathbb{R}^m$, *inner product* dari kedua vektor tersebut adalah\n",
    "\n",
    "$$\n",
    "c = \\langle \\mathbf{a}, \\mathbf{b} \\rangle = \\mathbf{a}^\\top \\mathbf{b} = \\sum_{i=1}^m a_i b_i \\in \\mathbb{R}\n",
    "$$"
   ]
  },
  {
   "cell_type": "code",
   "execution_count": 15,
   "metadata": {},
   "outputs": [
    {
     "name": "stdout",
     "output_type": "stream",
     "text": [
      "c1: 2.183028438340653, c2: 2.183028438340653, c3: 2.183028438340653\n"
     ]
    }
   ],
   "source": [
    "c1 = np.inner(a, b)\n",
    "c2 = np.dot(a, b)\n",
    "c3 = a @ b\n",
    "\n",
    "print(f\"c1: {c1}, c2: {c2}, c3: {c3}\")"
   ]
  },
  {
   "cell_type": "markdown",
   "metadata": {},
   "source": [
    "#"
   ]
  },
  {
   "cell_type": "markdown",
   "metadata": {},
   "source": [
    "## Fungsi Linear"
   ]
  },
  {
   "cell_type": "markdown",
   "metadata": {},
   "source": [
    "## Norm dan Jarak"
   ]
  },
  {
   "cell_type": "markdown",
   "metadata": {},
   "source": [
    "## Matriks"
   ]
  },
  {
   "cell_type": "markdown",
   "metadata": {},
   "source": [
    "## Metode Least Squares"
   ]
  }
 ],
 "metadata": {
  "kernelspec": {
   "display_name": "Python 3",
   "language": "python",
   "name": "python3"
  },
  "language_info": {
   "codemirror_mode": {
    "name": "ipython",
    "version": 3
   },
   "file_extension": ".py",
   "mimetype": "text/x-python",
   "name": "python",
   "nbconvert_exporter": "python",
   "pygments_lexer": "ipython3",
   "version": "3.10.5"
  },
  "orig_nbformat": 4
 },
 "nbformat": 4,
 "nbformat_minor": 2
}
