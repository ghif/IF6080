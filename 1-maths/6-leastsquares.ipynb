{
 "cells": [
  {
   "cell_type": "markdown",
   "metadata": {},
   "source": [
    "## Least Squares\n",
    "\n",
    "Least square (LS) merupakan suatu metode untuk mencari solusi dari sistem persamaan linear dengan meminimalisir total error pada persamaan tersebut. \n",
    "Metode ini ditemukan secara terpisah oleh Carl Friedrich Gauss dan Adrien-Marie Legendre sekitar abad 19.\n",
    "\n",
    "Misal terdapat sebuah sistem persamaan linear:\n",
    "\n",
    "$$\n",
    "x_{11} w_1 + x_{12} w_2 + \\cdots + x_{1d} w_d = y_1\\\\\n",
    "x_{21} w_1 + x_{22} w_2 + \\cdots + x_{2d} w_d = y_2\\\\\n",
    "\\vdots + \\vdots + \\vdots = \\vdots\\\\\n",
    "x_{n1} w_1 + x_{n2} w_2 + \\cdots + x_{nd} w_d = y_n\n",
    "$$"
   ]
  },
  {
   "cell_type": "markdown",
   "metadata": {},
   "source": [
    "Dalam notasi matriks-vektor dapat ditulis sbb:\n",
    "$$\n",
    "\\mathbf{X} \\mathbf{w} = \\mathbf{y}\n",
    "$$\n",
    "\n",
    "dimana $\\mathbf{X} \\in \\mathbb{R}^{n \\times d}$ dan $\\mathbf{y} \\in \\mathbb{R}^n$ nilainya diketahui.\n",
    "\n",
    "LS mencari solusi $\\mathbf{\\tilde{w}} \\in \\mathbb{R}^d$ yang menghasilkan $\\mathbf{X} \\mathbf{\\tilde{w}} \\approx \\mathbf{y}$.\n",
    "Syarat yang harus dipenuhi agar persamaan tersebut memiliki solusi adalah $n >= d$ (*over-determined*) dan $\\mathbf{y}$ merupakan kombinasi linear dari kolom-kolom yang ada di $\\mathbf{X}$."
   ]
  },
  {
   "cell_type": "markdown",
   "metadata": {},
   "source": [
    "### Problem optimisasi\n",
    "\n",
    "Sebelum memasuki rincian metode LS, ada baiknya untuk memahami problem optimisasi secara umum.\n",
    "Problem optimisasi memiliki beberapa komponen:\n",
    "\n",
    "- Observasi/data: $D$\n",
    "- Fungsi/model parametrik: $f_{\\theta}: \\mathcal{X} \\rightarrow \\mathcal{Y}$\n",
    "- Fungsi objektif: *loss* $L(\\theta; D)$ atau *utility* $U(\\theta; D)$\n",
    "\n",
    "Misal $L(\\theta; D)$ merupakan fungsi *loss*, optimisasi dilakukan untuk menentukan model/parameter yang dapat meminimalisir $L$:\n",
    "\n",
    "$$\n",
    "\\min_{\\theta} L(\\theta; D)\n",
    "$$\n",
    "\n",
    "Jika objektif berupa fungsi *utility* $U(\\theta; D)$, maka optimisasi dilakukan untuk memaksimalkan utilitas:\n",
    "\n",
    "$$\n",
    "\\max_{\\theta} U(\\theta; D)\n",
    "$$\n",
    "\n",
    "\n",
    "\n",
    "\n"
   ]
  },
  {
   "cell_type": "markdown",
   "metadata": {},
   "source": [
    "### Optimisasi Least Squares\n",
    "\n",
    "Pada LS, fungsi objektif yang digunakan adalah fungsi *loss* dalam bentuk norm kuadrat \n",
    "\n",
    "$$\n",
    "L(\\mathbf{w}; D) = \\sum_{i=1}^n (\\mathbf{w}^\\top \\mathbf{x}^{(i)} - y^{(i)}) = \\| \\mathbf{X} \\mathbf{w} - \\mathbf{y}\\|^2\n",
    "$$\n",
    "\n",
    "dimana $\\mathbf{w}$ merupakan parameter dan $D = \\{ \\mathbf{X}, \\mathbf{y} \\}$ merupakan data.\n",
    "\n",
    "Least squares mencari parameter $\\mathbf{w}$ yang mencapai objektif di bawah ini:\n",
    "\n",
    "$$\n",
    "\\min_{\\mathbf{w}} \\| \\mathbf{X} \\mathbf{w} - \\mathbf{y} \\|^2\n",
    "$$"
   ]
  },
  {
   "cell_type": "markdown",
   "metadata": {},
   "source": [
    "#### Solusi\n",
    "\n",
    "LS memiliki solusi analitis dalam bentuk:\n",
    "\n",
    "$$\n",
    "\\mathbf{\\tilde{w}} = (\\mathbf{X}^\\top \\mathbf{X})^{-1} \\mathbf{X}^\\top \\mathbf{y}\n",
    "$$"
   ]
  },
  {
   "cell_type": "markdown",
   "metadata": {},
   "source": [
    "### Studi Kasus: House Sales Price modeling"
   ]
  },
  {
   "cell_type": "markdown",
   "metadata": {},
   "source": [
    "**Pembacaan data**"
   ]
  },
  {
   "cell_type": "code",
   "execution_count": 2,
   "metadata": {},
   "outputs": [],
   "source": [
    "import pandas as pd\n",
    "\n",
    "# Read data frame\n",
    "df = pd.read_csv(\"house_sales.csv\")\n",
    "\n",
    "# Take only price, area, and beds\n",
    "x_area = df[\"area\"].values\n",
    "x_beds = df[\"beds\"].values\n",
    "y = df[\"price\"].values"
   ]
  },
  {
   "cell_type": "markdown",
   "metadata": {},
   "source": [
    "**Menghitung least squares (training) - 1D**"
   ]
  },
  {
   "cell_type": "code",
   "execution_count": 59,
   "metadata": {},
   "outputs": [
    {
     "name": "stdout",
     "output_type": "stream",
     "text": [
      "X: \n",
      "[[1.    0.941]\n",
      " [1.    1.146]\n",
      " [1.    0.909]\n",
      " ...\n",
      " [1.    1.216]\n",
      " [1.    1.685]\n",
      " [1.    1.362]]\n",
      "(774, 2)\n",
      "beta: [ 20.56987235 131.50723799], (2,)\n"
     ]
    }
   ],
   "source": [
    "import numpy as np\n",
    "\n",
    "\n",
    "n = x_area.shape[0]\n",
    "X = np.vstack([np.ones(n), x_area]).T\n",
    "print(f\"X: \\n{X}\")\n",
    "print(f\"{X.shape}\")\n",
    "\n",
    "# compute LS solutions\n",
    "beta = np.linalg.inv(X.T @ X) @ X.T @ y\n",
    "\n",
    "print(f\"beta: {beta}, {beta.shape}\")"
   ]
  },
  {
   "cell_type": "markdown",
   "metadata": {},
   "source": [
    "**Menghitung prediksi (inference)**"
   ]
  },
  {
   "cell_type": "code",
   "execution_count": 60,
   "metadata": {},
   "outputs": [],
   "source": [
    "def linear_predict(X, beta):\n",
    "    n = X.shape[0]\n",
    "    ones = np.ones(n)\n",
    "    ones = np.reshape(ones, (n, 1))\n",
    "    Xe = np.hstack([ones, X])\n",
    "    y_prime = Xe @ beta\n",
    "\n",
    "    return y_prime\n",
    "\n",
    "# X_input = np.array([x_area, x_beds]).T\n",
    "X_input = np.reshape(x_area, (x_area.shape[0], 1))\n",
    "y_prime = linear_predict(X_input, beta)"
   ]
  },
  {
   "cell_type": "markdown",
   "metadata": {},
   "source": [
    "**Visualisasi data dan prediksi**"
   ]
  },
  {
   "cell_type": "code",
   "execution_count": 61,
   "metadata": {},
   "outputs": [
    {
     "data": {
      "text/plain": [
       "[<matplotlib.lines.Line2D at 0x14c49c890>]"
      ]
     },
     "execution_count": 61,
     "metadata": {},
     "output_type": "execute_result"
    },
    {
     "data": {
      "image/png": "[encoded data removed]",
      "text/plain": [
       "<Figure size 640x480 with 1 Axes>"
      ]
     },
     "metadata": {},
     "output_type": "display_data"
    }
   ],
   "source": [
    "import matplotlib.pyplot as plt\n",
    "plt.ion()\n",
    "plt.xlabel(\"area\")\n",
    "plt.ylabel(\"price\")\n",
    "\n",
    "# Plot area vs price\n",
    "plt.plot(x_area, y, 'o', color='blue')\n",
    "plt.plot(x_area, y_prime, '-', color='red')"
   ]
  },
  {
   "cell_type": "markdown",
   "metadata": {},
   "source": []
  }
 ],
 "metadata": {
  "kernelspec": {
   "display_name": "Python 3",
   "language": "python",
   "name": "python3"
  },
  "language_info": {
   "codemirror_mode": {
    "name": "ipython",
    "version": 3
   },
   "file_extension": ".py",
   "mimetype": "text/x-python",
   "name": "python",
   "nbconvert_exporter": "python",
   "pygments_lexer": "ipython3",
   "version": "3.11.5"
  },
  "orig_nbformat": 4
 },
 "nbformat": 4,
 "nbformat_minor": 2
}
