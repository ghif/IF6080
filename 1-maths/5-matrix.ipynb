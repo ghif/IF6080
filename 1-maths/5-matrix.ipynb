{
 "cells": [
  {
   "cell_type": "markdown",
   "metadata": {},
   "source": [
    "## Matriks\n",
    "\n",
    "Matriks merupakan array 2 dimensi yang memiliki baris dan kolom. \n",
    "Untuk matriks beranggotakan bilangan riil, kita dapat menuliskannya dengan notasi $\\mathbf{A} \\in \\mathbb{R}^{m \\times k}$:\n",
    "\n",
    "$$\n",
    "\\mathbf{A} = \n",
    "\\begin{bmatrix}\n",
    "a_{11} & a_{12} & \\cdots & a_{1k} \\\\\n",
    "a_{21} & a_{22} & \\cdots & a_{2k} \\\\\n",
    "\\vdots & \\vdots & \\ddots & \\vdots \\\\\n",
    "a_{m1} & a_{m2} & \\cdots & a_{mk}\n",
    "\\end{bmatrix}\n",
    "$$\n",
    "\n",
    "Sebagai contoh, berikut sebuah matriks $\\mathbf{A}$ berdimensi 3 x 4:\n",
    "\n",
    "$$\n",
    "\\mathbf{A} = \n",
    "\\begin{bmatrix}\n",
    "0 & 1 & -2.3 & 0.1 \\\\\n",
    "1.3 & 4 & -0.1 & 1 \\\\\n",
    "4.1 & -1 & 0 & 1.7\n",
    "\\end{bmatrix}\n",
    "$$"
   ]
  },
  {
   "cell_type": "markdown",
   "metadata": {},
   "source": [
    "### Pembentukkan matriks\n",
    "\n",
    "Seperti halnya pada vektor, NumPy menyediakan berbagai cara untuk membentuk matriks."
   ]
  },
  {
   "cell_type": "markdown",
   "metadata": {},
   "source": [
    "**Hard-coded**"
   ]
  },
  {
   "cell_type": "code",
   "execution_count": 2,
   "metadata": {},
   "outputs": [
    {
     "name": "stdout",
     "output_type": "stream",
     "text": [
      "Value: [[ 0.   1.  -2.3  0.1]\n",
      " [ 1.3  4.  -0.1  1. ]\n",
      " [ 4.1 -1.   0.   1.7]]\n",
      "Shape: (3, 4)\n"
     ]
    }
   ],
   "source": [
    "import numpy as np\n",
    "A = np.array([[0, 1, -2.3, 0.1], [1.3, 4, -0.1, 1], [4.1, -1, 0, 1.7]])\n",
    "\n",
    "m, k = A.shape # get matrix dimension\n",
    "\n",
    "print(f\"Value: {A}\")\n",
    "print(f\"Shape: {m, k}\")"
   ]
  },
  {
   "cell_type": "markdown",
   "metadata": {},
   "source": [
    "**Random**"
   ]
  },
  {
   "cell_type": "code",
   "execution_count": 3,
   "metadata": {},
   "outputs": [
    {
     "name": "stdout",
     "output_type": "stream",
     "text": [
      "A : \n",
      "[[0.59475965 0.18125796 0.82164538 0.33985081]\n",
      " [0.12896261 0.43128997 0.58597658 0.09622743]\n",
      " [0.71203257 0.68606346 0.82127356 0.59555225]\n",
      " [0.55598533 0.22522152 0.49431196 0.41423945]\n",
      " [0.31936585 0.00650845 0.27951082 0.38366953]]\n"
     ]
    }
   ],
   "source": [
    "A = np.random.random((5, 4))\n",
    "print(f\"A : \\n{A}\")"
   ]
  },
  {
   "cell_type": "markdown",
   "metadata": {},
   "source": [
    "**Matriks Nol, Identitas, Diagonal**"
   ]
  },
  {
   "cell_type": "code",
   "execution_count": 4,
   "metadata": {},
   "outputs": [
    {
     "name": "stdout",
     "output_type": "stream",
     "text": [
      "Zeros: \n",
      "[[0. 0. 0.]\n",
      " [0. 0. 0.]\n",
      " [0. 0. 0.]]\n",
      "Ones: \n",
      "[[1. 1. 1.]\n",
      " [1. 1. 1.]\n",
      " [1. 1. 1.]]\n",
      "Diagonal: \n",
      "[[1. 0. 0.]\n",
      " [0. 1. 0.]\n",
      " [0. 0. 1.]]\n"
     ]
    }
   ],
   "source": [
    "Z = np.zeros((3, 3))\n",
    "I = np.ones((3, 3))\n",
    "D = np.diag(np.ones(3))\n",
    "\n",
    "print(f\"Zeros: \\n{Z}\")\n",
    "print(f\"Ones: \\n{I}\")\n",
    "print(f\"Diagonal: \\n{D}\")"
   ]
  },
  {
   "cell_type": "markdown",
   "metadata": {},
   "source": [
    "**Submatrix / Slicing**"
   ]
  },
  {
   "cell_type": "code",
   "execution_count": 20,
   "metadata": {},
   "outputs": [
    {
     "name": "stdout",
     "output_type": "stream",
     "text": [
      "A: \n",
      "[[  4  -7  -1   2]\n",
      " [  0   4 -10  -2]\n",
      " [  4 -10   4  -4]\n",
      " [ -4 -10  -2  -1]]\n",
      "B: \n",
      "[[ 4 -4]\n",
      " [-2 -1]]\n"
     ]
    }
   ],
   "source": [
    "A = np.random.randint(-10, high=5, size=(4, 4))\n",
    "print(f\"A: \\n{A}\")\n",
    "\n",
    "B = A[2:4, 2:4] # slicing\n",
    "print(f\"B: \\n{B}\")"
   ]
  },
  {
   "cell_type": "markdown",
   "metadata": {},
   "source": [
    "**Penggabungan matriks**"
   ]
  },
  {
   "cell_type": "markdown",
   "metadata": {},
   "source": [
    "Matriks dapat dibentuk dari penggabungan matriks-matriks lain dengan menggunakan `hstack()` (*horizontal merge*) atau `vstack()` (*vertical merge*)"
   ]
  },
  {
   "cell_type": "code",
   "execution_count": 36,
   "metadata": {},
   "outputs": [
    {
     "name": "stdout",
     "output_type": "stream",
     "text": [
      "A shape: (3, 2)\n",
      "B shape: (3, 4)\n",
      "(hstack) C shape: (3, 6)\n",
      "A shape: (5, 3)\n",
      "B shape: (2, 3)\n",
      "(vstack) C shape: (7, 3)\n"
     ]
    }
   ],
   "source": [
    "A = np.random.randn(3, 2)\n",
    "B = np.random.randn(3, 4)\n",
    "\n",
    "print(f\"A shape: {A.shape}\")\n",
    "print(f\"B shape: {B.shape}\")\n",
    "\n",
    "C = np.hstack((A, B)) # horizontal merge\n",
    "print(f\"(hstack) C shape: {C.shape}\")\n",
    "\n",
    "A = np.random.randn(5, 3)\n",
    "B = np.random.randn(2, 3)\n",
    "\n",
    "print(f\"A shape: {A.shape}\")\n",
    "print(f\"B shape: {B.shape}\")\n",
    "\n",
    "C = np.vstack((A, B)) # horizontal merge\n",
    "print(f\"(vstack) C shape: {C.shape}\")"
   ]
  },
  {
   "cell_type": "markdown",
   "metadata": {},
   "source": [
    "**Mengubah vektor dimensi $d$ menjadi matriks**"
   ]
  },
  {
   "cell_type": "markdown",
   "metadata": {},
   "source": [
    "Pada NumPy, fungsi `reshape()` dapat mengubah bentuk atau dimensi dari vektor atau matriks tanpa mengubah data."
   ]
  },
  {
   "cell_type": "code",
   "execution_count": 57,
   "metadata": {},
   "outputs": [
    {
     "name": "stdout",
     "output_type": "stream",
     "text": [
      "v shape: (4,)\n",
      "M shape: (1, 4)\n",
      "w shape: (4,)\n",
      "[ True  True  True  True]\n"
     ]
    }
   ],
   "source": [
    "v = np.random.randn(4)\n",
    "print(f\"v shape: {v.shape}\")\n",
    "\n",
    "M = np.reshape(v, (1, 4))\n",
    "print(f\"M shape: {M.shape}\")\n",
    "\n",
    "w = M.flatten() # vectorization: go back to original vector\n",
    "print(f\"w shape: {w.shape}\")\n",
    "\n",
    "print(v == w)"
   ]
  },
  {
   "cell_type": "markdown",
   "metadata": {},
   "source": [
    "### Operasi Dasar Matriks\n",
    "\n",
    "Diketahui matriks $\\mathbf{A}, \\mathbf{B} \\in \\mathbb{R}^{m \\times k}$, dan skalar $c \\in \\mathbb{R}$.\n",
    "\n",
    "- **Penjumlahan**: $\\mathbf{C} = \\mathbf{A} + \\mathbf{B}$\n",
    "- **Pengurangan**: $\\mathbf{C} = \\mathbf{A} - \\mathbf{B}$\n",
    "- **Perkalian dengan skalar**: $\\mathbf{C} = c \\mathbf{A}$\n",
    "- **Perkalian antar elemen matriks**: $\\mathbf{C} = \\mathbf{A} * \\mathbf{B}$"
   ]
  },
  {
   "cell_type": "code",
   "execution_count": 7,
   "metadata": {},
   "outputs": [
    {
     "name": "stdout",
     "output_type": "stream",
     "text": [
      "Addition: \n",
      "[[1 6]\n",
      " [9 3]\n",
      " [3 5]]\n",
      "Scalar mult: \n",
      "[[ 0.  10. ]\n",
      " [17.5  0. ]\n",
      " [ 7.5  2.5]]\n",
      "Element-wise mult: \n",
      "[[ 0  8]\n",
      " [14  0]\n",
      " [ 0  4]]\n"
     ]
    }
   ],
   "source": [
    "A = np.array([[0, 4], [7,0], [3,1]])\n",
    "B = np.array([[1, 2], [2,3], [0,4]])\n",
    "C = A + B\n",
    "print(f\"Addition: \\n{C}\")\n",
    "\n",
    "C = 2.5 * A\n",
    "print(f\"Scalar mult: \\n{C}\")\n",
    "\n",
    "C = A * B\n",
    "print(f\"Element-wise mult: \\n{C}\")"
   ]
  },
  {
   "cell_type": "markdown",
   "metadata": {},
   "source": [
    "### Inner Product"
   ]
  },
  {
   "cell_type": "markdown",
   "metadata": {},
   "source": [
    "#### Perkalian matriks-vektor\n",
    "\n",
    "Perkalian matriks-vektor merupakan generalisasi inner product dari 2 vektor. Misal terdapat matriks $\\mathbf{A} \\in \\mathbb{R}^{m \\times k}$ dan vektor $\\mathbf{v} \\in \\mathbb{R}^k$, perkalian matriks-vektor menghasilkan sebuah vektor baru $\\mathbf{y} \\in \\mathbb{R}^m$:\n",
    "\n",
    "$$\n",
    "\\mathbf{y} = \\mathbf{A} \\mathbf{v}\n",
    "$$"
   ]
  },
  {
   "cell_type": "code",
   "execution_count": 23,
   "metadata": {},
   "outputs": [
    {
     "name": "stdout",
     "output_type": "stream",
     "text": [
      "A: \n",
      "[[-1.33075413 -0.58475132  0.7210953 ]\n",
      " [-0.24295689  0.01311127  0.97034313]\n",
      " [-1.30386216 -1.3823124  -0.67044426]\n",
      " [ 1.49119567  0.57343756 -0.28493744]\n",
      " [ 0.42988586 -0.66724334  1.15758438]]\n",
      "v: \n",
      "[ 0.49640957 -1.73485353 -0.43688   ]\n",
      "Matrix-vector mult: \n",
      "[ 0.03882669 -0.56727576  2.04376357 -0.1301029   0.86524346]\n"
     ]
    }
   ],
   "source": [
    "A = np.random.randn(5, 3)\n",
    "v = np.random.randn(3)\n",
    "\n",
    "print(f\"A: \\n{A}\")\n",
    "print(f\"v: \\n{v}\")\n",
    "\n",
    "y = A @ v\n",
    "print(f\"Matrix-vector mult: \\n{y}\")"
   ]
  },
  {
   "cell_type": "markdown",
   "metadata": {},
   "source": [
    "#### Perkalian matriks-matriks\n",
    "Diketahui matriks $\\mathbf{A} \\in \\mathbb{R}^{m \\times d}$ dan $\\mathbf{B} \\in \\mathbb{R}^{d \\times k}$, perkalian antar kedua matriks tsb menghasilkan matriks baru $\\mathbf{C} \\in \\mathbb{R}^{m \\times k}$:\n",
    "\n",
    "$$\n",
    "\\mathbf{C} = \\mathbf{A} \\mathbf{B}\n",
    "$$"
   ]
  },
  {
   "cell_type": "code",
   "execution_count": 39,
   "metadata": {},
   "outputs": [
    {
     "name": "stdout",
     "output_type": "stream",
     "text": [
      "A: \n",
      "[[  1 -10]\n",
      " [ -7   4]\n",
      " [  1   5]\n",
      " [ -6   5]]\n",
      "B: \n",
      "[[1 4 4]\n",
      " [3 2 2]]\n",
      "C: \n",
      "[[-29 -16 -16]\n",
      " [  5 -20 -20]\n",
      " [ 16  14  14]\n",
      " [  9 -14 -14]]\n"
     ]
    }
   ],
   "source": [
    "A = np.random.randint(-10, high=10, size=(4, 2))\n",
    "B = np.random.randint(-5, high=5, size=(2, 3))\n",
    "\n",
    "print(f\"A: \\n{A}\")\n",
    "print(f\"B: \\n{B}\")\n",
    "\n",
    "C = A @ B\n",
    "print(f\"C: \\n{C}\")"
   ]
  },
  {
   "cell_type": "markdown",
   "metadata": {},
   "source": [
    "#### Transpos\n",
    "Transpos merupakan operator untuk menukar posisi baris dan kolom matriks. Tranpos dari matriks $\\mathbf{A} \\in \\mathbb{R}^{m \\times k}$ ditulis dengan $\\mathbf{A}^\\top \\in \\mathbb{R}^{k \\times m} $.\n",
    "\n",
    "Sebagai contoh, diketahui matriks $\\mathbf{A} \\in \\mathbb{R}^{2 \\times 3}$\n",
    "$$\n",
    "\\mathbf{A} = \n",
    "\\begin{bmatrix}\n",
    "1 & 2 & 3 \\\\\n",
    "4 & 5 & 6\n",
    "\\end{bmatrix}\n",
    "$$\n",
    "\n",
    "Transpos dari matriks tsb adalah\n",
    "\n",
    "$$\n",
    "\\mathbf{A}^\\top = \n",
    "\\begin{bmatrix}\n",
    "1 & 4 \\\\\n",
    "2 & 5 \\\\\n",
    "3 & 6\n",
    "\\end{bmatrix}\n",
    "$$"
   ]
  },
  {
   "cell_type": "code",
   "execution_count": 42,
   "metadata": {},
   "outputs": [
    {
     "name": "stdout",
     "output_type": "stream",
     "text": [
      "B shape: (3, 2)\n",
      "B.T shape: (2, 3)\n"
     ]
    }
   ],
   "source": [
    "A = np.random.randn(4, 2)\n",
    "B = np.random.randn(3, 2)\n",
    "\n",
    "# C = A @ B # can't be computed! matrix B needs to be trasponsed\n",
    "\n",
    "C = A @ B.T # B is transposed\n",
    "\n",
    "\n",
    "print(f\"B shape: {B.shape}\")\n",
    "print(f\"B.T shape: {B.T.shape}\")\n"
   ]
  },
  {
   "cell_type": "markdown",
   "metadata": {},
   "source": [
    "### Inverse\n",
    "\n",
    "**Left-inverse**: Matriks $\\mathbf{X} \\in \\mathbb{R}^{k \\times m}$ merupakan *left-inverse* dari matriks $\\mathbf{A} \\in \\mathbb{R}^{m \\times k}$ jika memenuhi:\n",
    "\n",
    "$$\n",
    "\\mathbf{X} \\mathbf{A} = \\mathbf{I}\n",
    "$$\n",
    "\n",
    "**Right-inverse**: Matriks $\\mathbf{X}$ merupakan *right-inverse* dari matriks $\\mathbf{A}$ jika memenuhi:\n",
    "\n",
    "$$\n",
    "\\mathbf{A} \\mathbf{X} = \\mathbf{I}\n",
    "$$\n",
    "\n",
    "Jika $\\mathbf{X}$ memenuhi baik *left-inverse* maupun *right-inverse* di atas, maka $\\mathbf{X}$ disebut sebagai matriks inverse dari $\\mathbf{A}$ atau ditulis dengan $\\mathbf{A}^{-1}$.\n",
    "\n",
    "Syarat awal agar $\\mathbf{A}$ memiliki inverse adalah harus berbentuk matriks segiempat, i.e., $\\mathbb{R}^{m \\times m}$."
   ]
  },
  {
   "cell_type": "code",
   "execution_count": 61,
   "metadata": {},
   "outputs": [
    {
     "name": "stdout",
     "output_type": "stream",
     "text": [
      "X: \n",
      " [[ 5 -1  3  7]\n",
      " [ 6  8  0  1]\n",
      " [ 4  5  7 -1]\n",
      " [ 1  7 -1  6]]\n",
      "Inverse of X: \n",
      " [[ 0.0807783   0.15625    -0.05306604 -0.12912736]\n",
      " [-0.06928066  0.015625    0.04186321  0.08520047]\n",
      " [ 0.01326651 -0.109375    0.14091981  0.02623821]\n",
      " [ 0.06957547 -0.0625     -0.01650943  0.09316038]]\n"
     ]
    }
   ],
   "source": [
    "X = np.random.randint(-2, 10, size=(4, 4))\n",
    "\n",
    "print(f\"X: \\n {X}\")\n",
    "print(f\"Inverse of X: \\n {np.linalg.inv(X)}\")"
   ]
  },
  {
   "cell_type": "markdown",
   "metadata": {},
   "source": [
    "### Norm matriks\n",
    "\n",
    "Konsep norm juga dapat diaplikasikan pada matriks yang merepresentasikan besaran skalar (*magnitude*) dari suatu matriks. \n",
    "Sebagai contoh, Euclidean norm dari matriks $\\mathbf{A} \\in \\mathbb{R}^{m \\times k}$ adalah:\n",
    "\n",
    "$$\n",
    "\\| \\mathbf{A} \\| = \\sqrt{\\left( \\sum_{i=1}^{m} \\sum_{j=1}^{k} a_{ij} \\right)}\n",
    "$$"
   ]
  },
  {
   "cell_type": "code",
   "execution_count": 10,
   "metadata": {},
   "outputs": [
    {
     "name": "stdout",
     "output_type": "stream",
     "text": [
      "A: \n",
      "[[0.51270915 0.13174651 0.32287097]\n",
      " [0.67257647 0.73610693 0.25755681]\n",
      " [0.56968214 0.94510945 0.64390771]\n",
      " [0.85235443 0.22907113 0.66960618]]\n",
      "Norm(A): 2.074792125527611\n"
     ]
    }
   ],
   "source": [
    "A = np.random.random((4, 3))\n",
    "print(f\"A: \\n{A}\")\n",
    "\n",
    "print(f\"Norm(A): {np.linalg.norm(A)}\")"
   ]
  },
  {
   "cell_type": "markdown",
   "metadata": {},
   "source": []
  }
 ],
 "metadata": {
  "kernelspec": {
   "display_name": "Python 3",
   "language": "python",
   "name": "python3"
  },
  "language_info": {
   "codemirror_mode": {
    "name": "ipython",
    "version": 3
   },
   "file_extension": ".py",
   "mimetype": "text/x-python",
   "name": "python",
   "nbconvert_exporter": "python",
   "pygments_lexer": "ipython3",
   "version": "3.11.5"
  },
  "orig_nbformat": 4
 },
 "nbformat": 4,
 "nbformat_minor": 2
}
