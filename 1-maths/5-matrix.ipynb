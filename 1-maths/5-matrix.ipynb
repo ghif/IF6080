{
 "cells": [
  {
   "cell_type": "markdown",
   "metadata": {},
   "source": [
    "## Matriks\n",
    "\n",
    "Matriks merupakan array 2 dimensi yang memiliki baris dan kolom. Sebagai contoh, terdapat sebuah matriks $\\mathbf{A}$ berdimensi 3 x 4:\n",
    "\n",
    "$$\n",
    "\\mathbf{A} = \n",
    "\\begin{bmatrix}\n",
    "0 & 1 & -2.3 & 0.1 \\\\\n",
    "1.3 & 4 & -0.1 & 1 \\\\\n",
    "4.1 & -1 & 0 & 1.7\n",
    "\\end{bmatrix}\n",
    "$$\n",
    "\n",
    "Untuk matriks bilangan riil, kita dapat menuliskannya dengan notasi $\\mathbf{A} \\in \\mathbb{R}^{m \\times k}$."
   ]
  },
  {
   "cell_type": "markdown",
   "metadata": {},
   "source": [
    "### Pembentukkan matriks"
   ]
  },
  {
   "cell_type": "markdown",
   "metadata": {},
   "source": [
    "**Hard-coded**"
   ]
  },
  {
   "cell_type": "code",
   "execution_count": 3,
   "metadata": {},
   "outputs": [
    {
     "name": "stdout",
     "output_type": "stream",
     "text": [
      "Value: [[ 0.   1.  -2.3  0.1]\n",
      " [ 1.3  4.  -0.1  1. ]\n",
      " [ 4.1 -1.   0.   1.7]]\n",
      "Shape: (3, 4)\n"
     ]
    }
   ],
   "source": [
    "import numpy as np\n",
    "A = np.array([[0, 1, -2.3, 0.1], [1.3, 4, -0.1, 1], [4.1, -1, 0, 1.7]])\n",
    "\n",
    "m, k = A.shape # get matrix dimension\n",
    "\n",
    "print(f\"Value: {A}\")\n",
    "print(f\"Shape: {m, k}\")"
   ]
  },
  {
   "cell_type": "markdown",
   "metadata": {},
   "source": [
    "**Random**"
   ]
  },
  {
   "cell_type": "code",
   "execution_count": 10,
   "metadata": {},
   "outputs": [
    {
     "name": "stdout",
     "output_type": "stream",
     "text": [
      "A : \n",
      "[[0.71838912 0.37000871 0.75746966 0.23394333]\n",
      " [0.09353956 0.34674528 0.92929195 0.93896871]\n",
      " [0.638947   0.79173388 0.79039185 0.80278165]\n",
      " [0.0494406  0.50108923 0.25678686 0.6443586 ]\n",
      " [0.99882987 0.03614295 0.65607619 0.53234571]]\n"
     ]
    }
   ],
   "source": [
    "A = np.random.random((5, 4))\n",
    "A\n",
    "print(f\"A : \\n{A}\")"
   ]
  },
  {
   "cell_type": "markdown",
   "metadata": {},
   "source": [
    "**Matriks Nol, Identitas, Diagonal**"
   ]
  },
  {
   "cell_type": "code",
   "execution_count": 9,
   "metadata": {},
   "outputs": [
    {
     "name": "stdout",
     "output_type": "stream",
     "text": [
      "Zeros: \n",
      "[[0. 0. 0.]\n",
      " [0. 0. 0.]\n",
      " [0. 0. 0.]]\n",
      "Ones: \n",
      "[[1. 1. 1.]\n",
      " [1. 1. 1.]\n",
      " [1. 1. 1.]]\n",
      "Diagonal: \n",
      "[[1. 0. 0.]\n",
      " [0. 1. 0.]\n",
      " [0. 0. 1.]]\n"
     ]
    }
   ],
   "source": [
    "Z = np.zeros((3, 3))\n",
    "I = np.ones((3, 3))\n",
    "D = np.diag(np.ones(3))\n",
    "\n",
    "print(f\"Zeros: \\n{Z}\")\n",
    "print(f\"Ones: \\n{I}\")\n",
    "print(f\"Diagonal: \\n{D}\")"
   ]
  },
  {
   "cell_type": "markdown",
   "metadata": {},
   "source": []
  },
  {
   "cell_type": "code",
   "execution_count": null,
   "metadata": {},
   "outputs": [],
   "source": []
  }
 ],
 "metadata": {
  "kernelspec": {
   "display_name": "Python 3",
   "language": "python",
   "name": "python3"
  },
  "language_info": {
   "codemirror_mode": {
    "name": "ipython",
    "version": 3
   },
   "file_extension": ".py",
   "mimetype": "text/x-python",
   "name": "python",
   "nbconvert_exporter": "python",
   "pygments_lexer": "ipython3",
   "version": "3.11.5"
  },
  "orig_nbformat": 4
 },
 "nbformat": 4,
 "nbformat_minor": 2
}
