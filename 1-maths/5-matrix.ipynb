{
 "cells": [
  {
   "cell_type": "markdown",
   "metadata": {},
   "source": [
    "## Matriks\n",
    "\n",
    "Matriks merupakan array 2 dimensi yang memiliki baris dan kolom. \n",
    "Untuk matriks beranggotakan bilangan riil, kita dapat menuliskannya dengan notasi $\\mathbf{A} \\in \\mathbb{R}^{m \\times k}$:\n",
    "\n",
    "$$\n",
    "\\mathbf{A} = \n",
    "\\begin{bmatrix}\n",
    "a_{11} & a_{12} & \\cdots & a_{1k} \\\\\n",
    "a_{21} & a_{22} & \\cdots & a_{2k} \\\\\n",
    "\\vdots & \\vdots & \\ddots & \\vdots \\\\\n",
    "a_{m1} & a_{m2} & \\cdots & a_{mk}\n",
    "\\end{bmatrix}\n",
    "$$\n",
    "\n",
    "Sebagai contoh, berikut sebuah matriks $\\mathbf{A}$ berdimensi 3 x 4:\n",
    "\n",
    "$$\n",
    "\\mathbf{A} = \n",
    "\\begin{bmatrix}\n",
    "0 & 1 & -2.3 & 0.1 \\\\\n",
    "1.3 & 4 & -0.1 & 1 \\\\\n",
    "4.1 & -1 & 0 & 1.7\n",
    "\\end{bmatrix}\n",
    "$$"
   ]
  },
  {
   "cell_type": "markdown",
   "metadata": {},
   "source": [
    "### Pembentukkan matriks\n",
    "\n",
    "Seperti halnya pada vektor, NumPy menyediakan berbagai cara untuk membentuk matriks."
   ]
  },
  {
   "cell_type": "markdown",
   "metadata": {},
   "source": [
    "**Hard-coded**"
   ]
  },
  {
   "cell_type": "code",
   "execution_count": 1,
   "metadata": {},
   "outputs": [
    {
     "name": "stdout",
     "output_type": "stream",
     "text": [
      "Value: [[ 0.   1.  -2.3  0.1]\n",
      " [ 1.3  4.  -0.1  1. ]\n",
      " [ 4.1 -1.   0.   1.7]]\n",
      "Shape: (3, 4)\n"
     ]
    }
   ],
   "source": [
    "import numpy as np\n",
    "A = np.array([\n",
    "    [0, 1, -2.3, 0.1], \n",
    "    [1.3, 4, -0.1, 1], \n",
    "    [4.1, -1, 0, 1.7]\n",
    "])\n",
    "\n",
    "m, k = A.shape # get matrix dimension\n",
    "\n",
    "print(f\"Value: {A}\")\n",
    "print(f\"Shape: {m, k}\")"
   ]
  },
  {
   "cell_type": "markdown",
   "metadata": {},
   "source": [
    "**Random**"
   ]
  },
  {
   "cell_type": "code",
   "execution_count": 5,
   "metadata": {},
   "outputs": [
    {
     "name": "stdout",
     "output_type": "stream",
     "text": [
      "A : \n",
      "[[ 0.0295687   1.05121791 -0.8497828   0.96420861]\n",
      " [ 1.07065086  0.56358228 -0.81913496  0.7070615 ]\n",
      " [-0.52779106  0.32584575  0.68832927 -0.75227341]\n",
      " [-0.16767081  2.12604817  0.79322046 -1.50649513]\n",
      " [ 1.26271858  0.12544913 -0.50459725  0.72724601]]\n"
     ]
    }
   ],
   "source": [
    "A = np.random.randn(5, 4)\n",
    "print(f\"A : \\n{A}\")"
   ]
  },
  {
   "cell_type": "markdown",
   "metadata": {},
   "source": [
    "**Matriks Nol, Identitas, Diagonal**"
   ]
  },
  {
   "cell_type": "code",
   "execution_count": 6,
   "metadata": {},
   "outputs": [
    {
     "name": "stdout",
     "output_type": "stream",
     "text": [
      "Zeros: \n",
      "[[0. 0. 0.]\n",
      " [0. 0. 0.]\n",
      " [0. 0. 0.]]\n",
      "Ones: \n",
      "[[1. 1. 1.]\n",
      " [1. 1. 1.]\n",
      " [1. 1. 1.]]\n",
      "Diagonal: \n",
      "[[1. 0. 0.]\n",
      " [0. 1. 0.]\n",
      " [0. 0. 1.]]\n"
     ]
    }
   ],
   "source": [
    "Z = np.zeros((3, 3))\n",
    "I = np.ones((3, 3))\n",
    "D = np.diag(np.ones(3))\n",
    "\n",
    "print(f\"Zeros: \\n{Z}\")\n",
    "print(f\"Ones: \\n{I}\")\n",
    "print(f\"Diagonal: \\n{D}\")"
   ]
  },
  {
   "cell_type": "markdown",
   "metadata": {},
   "source": [
    "**Submatrix / Slicing**"
   ]
  },
  {
   "cell_type": "code",
   "execution_count": 7,
   "metadata": {},
   "outputs": [
    {
     "name": "stdout",
     "output_type": "stream",
     "text": [
      "A: \n",
      "[[ -7  -8  -6  -3]\n",
      " [ -3   3   4   2]\n",
      " [ -5 -10  -9  -2]\n",
      " [  1   3  -6  -7]]\n",
      "B: \n",
      "[[-9 -2]\n",
      " [-6 -7]]\n"
     ]
    }
   ],
   "source": [
    "A = np.random.randint(-10, high=5, size=(4, 4))\n",
    "print(f\"A: \\n{A}\")\n",
    "\n",
    "B = A[2:4, 2:4] # slicing\n",
    "print(f\"B: \\n{B}\")"
   ]
  },
  {
   "cell_type": "markdown",
   "metadata": {},
   "source": [
    "**Penggabungan matriks**"
   ]
  },
  {
   "cell_type": "markdown",
   "metadata": {},
   "source": [
    "Matriks dapat dibentuk dari penggabungan matriks-matriks lain dengan menggunakan `hstack()` (*horizontal merge*) atau `vstack()` (*vertical merge*)"
   ]
  },
  {
   "cell_type": "code",
   "execution_count": 8,
   "metadata": {},
   "outputs": [
    {
     "name": "stdout",
     "output_type": "stream",
     "text": [
      "A shape: (3, 2)\n",
      "B shape: (3, 4)\n",
      "(hstack) C shape: (3, 6)\n",
      "A shape: (5, 3)\n",
      "B shape: (2, 3)\n",
      "(vstack) C shape: (7, 3)\n"
     ]
    }
   ],
   "source": [
    "A = np.random.randn(3, 2)\n",
    "B = np.random.randn(3, 4)\n",
    "\n",
    "print(f\"A shape: {A.shape}\")\n",
    "print(f\"B shape: {B.shape}\")\n",
    "\n",
    "C = np.hstack((A, B)) # horizontal merge\n",
    "print(f\"(hstack) C shape: {C.shape}\")\n",
    "\n",
    "A = np.random.randn(5, 3)\n",
    "B = np.random.randn(2, 3)\n",
    "\n",
    "print(f\"A shape: {A.shape}\")\n",
    "print(f\"B shape: {B.shape}\")\n",
    "\n",
    "C = np.vstack((A, B)) # horizontal merge\n",
    "print(f\"(vstack) C shape: {C.shape}\")"
   ]
  },
  {
   "cell_type": "markdown",
   "metadata": {},
   "source": [
    "**Mengubah vektor dimensi $d$ menjadi matriks**"
   ]
  },
  {
   "cell_type": "markdown",
   "metadata": {},
   "source": [
    "Pada NumPy, fungsi `reshape()` dapat mengubah bentuk atau dimensi dari vektor atau matriks tanpa mengubah data."
   ]
  },
  {
   "cell_type": "code",
   "execution_count": 9,
   "metadata": {},
   "outputs": [
    {
     "name": "stdout",
     "output_type": "stream",
     "text": [
      "v shape: (4,)\n",
      "M shape: (1, 4)\n",
      "w shape: (4,)\n",
      "[ True  True  True  True]\n"
     ]
    }
   ],
   "source": [
    "v = np.random.randn(4)\n",
    "print(f\"v shape: {v.shape}\")\n",
    "\n",
    "M = np.reshape(v, (1, 4))\n",
    "print(f\"M shape: {M.shape}\")\n",
    "\n",
    "w = M.flatten() # vectorization: go back to original vector\n",
    "print(f\"w shape: {w.shape}\")\n",
    "\n",
    "print(v == w)"
   ]
  },
  {
   "cell_type": "markdown",
   "metadata": {},
   "source": [
    "### Operasi Dasar Matriks\n",
    "\n",
    "Diketahui matriks $\\mathbf{A}, \\mathbf{B} \\in \\mathbb{R}^{m \\times k}$, dan skalar $c \\in \\mathbb{R}$.\n",
    "\n",
    "- **Penjumlahan**: $\\mathbf{C} = \\mathbf{A} + \\mathbf{B}$\n",
    "- **Pengurangan**: $\\mathbf{C} = \\mathbf{A} - \\mathbf{B}$\n",
    "- **Perkalian dengan skalar**: $\\mathbf{C} = c \\mathbf{A}$\n",
    "- **Perkalian antar elemen matriks**: $\\mathbf{C} = \\mathbf{A} * \\mathbf{B}$"
   ]
  },
  {
   "cell_type": "code",
   "execution_count": 10,
   "metadata": {},
   "outputs": [
    {
     "name": "stdout",
     "output_type": "stream",
     "text": [
      "Addition: \n",
      "[[1 6]\n",
      " [9 3]\n",
      " [3 5]]\n",
      "Scalar mult: \n",
      "[[ 0.  10. ]\n",
      " [17.5  0. ]\n",
      " [ 7.5  2.5]]\n",
      "Element-wise mult: \n",
      "[[ 0  8]\n",
      " [14  0]\n",
      " [ 0  4]]\n"
     ]
    }
   ],
   "source": [
    "A = np.array([[0, 4], [7,0], [3,1]])\n",
    "B = np.array([[1, 2], [2,3], [0,4]])\n",
    "C = A + B\n",
    "print(f\"Addition: \\n{C}\")\n",
    "\n",
    "C = 2.5 * A\n",
    "print(f\"Scalar mult: \\n{C}\")\n",
    "\n",
    "C = A * B\n",
    "print(f\"Element-wise mult: \\n{C}\")"
   ]
  },
  {
   "cell_type": "markdown",
   "metadata": {},
   "source": [
    "### Inner Product"
   ]
  },
  {
   "cell_type": "markdown",
   "metadata": {},
   "source": [
    "#### Perkalian matriks-vektor\n",
    "\n",
    "Perkalian matriks-vektor merupakan generalisasi inner product dari 2 vektor. Misal terdapat matriks $\\mathbf{A} \\in \\mathbb{R}^{m \\times k}$ dan vektor $\\mathbf{v} \\in \\mathbb{R}^k$, perkalian matriks-vektor menghasilkan sebuah vektor baru $\\mathbf{y} \\in \\mathbb{R}^m$:\n",
    "\n",
    "$$\n",
    "\\mathbf{y} = \\mathbf{A} \\mathbf{v}\n",
    "$$"
   ]
  },
  {
   "cell_type": "code",
   "execution_count": 14,
   "metadata": {},
   "outputs": [
    {
     "name": "stdout",
     "output_type": "stream",
     "text": [
      "A: \n",
      "[[-1.51099971 -0.64077488 -0.06841045]\n",
      " [-1.33957887  1.09114995  1.58275141]\n",
      " [ 1.60057409 -0.12905014 -1.70178596]\n",
      " [-1.11751063 -1.05536208  1.89692866]\n",
      " [-0.68351019  0.51506434 -1.07711707]]\n",
      "v: \n",
      "[-1.64856508  0.7307431   0.04045745]\n",
      "Matrix-vector mult: \n",
      "[ 2.01997181  3.06976733 -2.80180297  1.14783534  1.45961333]\n"
     ]
    }
   ],
   "source": [
    "A = np.random.randn(5, 3)\n",
    "v = np.random.randn(3)\n",
    "\n",
    "print(f\"A: \\n{A}\")\n",
    "print(f\"v: \\n{v}\")\n",
    "\n",
    "y = A @ v\n",
    "print(f\"Matrix-vector mult: \\n{y}\")"
   ]
  },
  {
   "cell_type": "markdown",
   "metadata": {},
   "source": [
    "#### Perkalian matriks-matriks\n",
    "Diketahui matriks $\\mathbf{A} \\in \\mathbb{R}^{m \\times d}$ dan $\\mathbf{B} \\in \\mathbb{R}^{d \\times k}$, perkalian antar kedua matriks tsb menghasilkan matriks baru $\\mathbf{C} \\in \\mathbb{R}^{m \\times k}$:\n",
    "\n",
    "$$\n",
    "\\mathbf{C} = \\mathbf{A} \\mathbf{B}\n",
    "$$"
   ]
  },
  {
   "cell_type": "code",
   "execution_count": 15,
   "metadata": {},
   "outputs": [
    {
     "name": "stdout",
     "output_type": "stream",
     "text": [
      "A: \n",
      "[[ 4 -5]\n",
      " [ 5 -8]\n",
      " [ 6 -8]\n",
      " [ 2  8]]\n",
      "B: \n",
      "[[ 1  3  1]\n",
      " [-5 -4  1]]\n",
      "C: \n",
      "[[ 29  32  -1]\n",
      " [ 45  47  -3]\n",
      " [ 46  50  -2]\n",
      " [-38 -26  10]]\n"
     ]
    }
   ],
   "source": [
    "A = np.random.randint(-10, high=10, size=(4, 2))\n",
    "B = np.random.randint(-5, high=5, size=(2, 3))\n",
    "\n",
    "print(f\"A: \\n{A}\")\n",
    "print(f\"B: \\n{B}\")\n",
    "\n",
    "C = A @ B\n",
    "print(f\"C: \\n{C}\")"
   ]
  },
  {
   "cell_type": "markdown",
   "metadata": {},
   "source": [
    "#### Transpos\n",
    "Transpos merupakan operator untuk menukar posisi baris dan kolom matriks. Tranpos dari matriks $\\mathbf{A} \\in \\mathbb{R}^{m \\times k}$ ditulis dengan $\\mathbf{A}^\\top \\in \\mathbb{R}^{k \\times m} $.\n",
    "\n",
    "Sebagai contoh, diketahui matriks $\\mathbf{A} \\in \\mathbb{R}^{2 \\times 3}$\n",
    "$$\n",
    "\\mathbf{A} = \n",
    "\\begin{bmatrix}\n",
    "1 & 2 & 3 \\\\\n",
    "4 & 5 & 6\n",
    "\\end{bmatrix}\n",
    "$$\n",
    "\n",
    "Transpos dari matriks tsb adalah\n",
    "\n",
    "$$\n",
    "\\mathbf{A}^\\top = \n",
    "\\begin{bmatrix}\n",
    "1 & 4 \\\\\n",
    "2 & 5 \\\\\n",
    "3 & 6\n",
    "\\end{bmatrix}\n",
    "$$"
   ]
  },
  {
   "cell_type": "code",
   "execution_count": 16,
   "metadata": {},
   "outputs": [
    {
     "name": "stdout",
     "output_type": "stream",
     "text": [
      "B shape: (3, 2)\n",
      "B.T shape: (2, 3)\n"
     ]
    }
   ],
   "source": [
    "A = np.random.randn(4, 2)\n",
    "B = np.random.randn(3, 2)\n",
    "\n",
    "# C = A @ B # can't be computed! matrix B needs to be trasponsed\n",
    "\n",
    "C = A @ B.T # B is transposed\n",
    "\n",
    "\n",
    "print(f\"B shape: {B.shape}\")\n",
    "print(f\"B.T shape: {B.T.shape}\")\n"
   ]
  },
  {
   "cell_type": "markdown",
   "metadata": {},
   "source": [
    "### Inverse\n",
    "\n",
    "**Left-inverse**: Matriks $\\mathbf{X} \\in \\mathbb{R}^{k \\times m}$ merupakan *left-inverse* dari matriks $\\mathbf{A} \\in \\mathbb{R}^{m \\times k}$ jika memenuhi:\n",
    "\n",
    "$$\n",
    "\\mathbf{X} \\mathbf{A} = \\mathbf{I}\n",
    "$$\n",
    "\n",
    "**Right-inverse**: Matriks $\\mathbf{X}$ merupakan *right-inverse* dari matriks $\\mathbf{A}$ jika memenuhi:\n",
    "\n",
    "$$\n",
    "\\mathbf{A} \\mathbf{X} = \\mathbf{I}\n",
    "$$\n",
    "\n",
    "Jika $\\mathbf{X}$ memenuhi baik *left-inverse* maupun *right-inverse* di atas, maka $\\mathbf{X}$ disebut sebagai matriks inverse dari $\\mathbf{A}$ atau ditulis dengan $\\mathbf{A}^{-1}$.\n",
    "\n",
    "Syarat awal agar $\\mathbf{A}$ memiliki inverse adalah harus berbentuk matriks segiempat, i.e., $\\mathbb{R}^{m \\times m}$."
   ]
  },
  {
   "cell_type": "code",
   "execution_count": 20,
   "metadata": {},
   "outputs": [
    {
     "name": "stdout",
     "output_type": "stream",
     "text": [
      "X: \n",
      " [[ 9  0  4  4]\n",
      " [ 1  3  6  5]\n",
      " [-2  4  9 -2]\n",
      " [ 4  8  5  9]]\n",
      "Inverse of X: \n",
      " [[ 0.11593641 -0.16130283  0.03101978  0.04497867]\n",
      " [-0.03063203 -0.26172935  0.08879411  0.17875145]\n",
      " [ 0.03024428  0.13183404  0.05157038 -0.07522295]\n",
      " [-0.0411012   0.23109732 -0.12136487 -0.02597906]]\n",
      "[[ 1.00000000e+00  1.11022302e-16  0.00000000e+00 -2.77555756e-17]\n",
      " [-6.93889390e-17  1.00000000e+00 -8.32667268e-17 -6.93889390e-18]\n",
      " [-5.55111512e-17 -1.11022302e-16  1.00000000e+00  8.32667268e-17]\n",
      " [-6.93889390e-17 -1.66533454e-16 -8.32667268e-17  1.00000000e+00]]\n",
      "[[ 1.00000000e+00  5.55111512e-17  3.46944695e-17 -4.85722573e-17]\n",
      " [ 0.00000000e+00  1.00000000e+00 -2.22044605e-16 -2.22044605e-16]\n",
      " [-5.55111512e-17  0.00000000e+00  1.00000000e+00  6.93889390e-17]\n",
      " [ 2.77555756e-17  5.55111512e-17  4.85722573e-17  1.00000000e+00]]\n"
     ]
    }
   ],
   "source": [
    "X = np.random.randint(-2, 10, size=(4, 4))\n",
    "\n",
    "print(f\"X: \\n {X}\")\n",
    "\n",
    "Xinv = np.linalg.inv(X)\n",
    "print(f\"Inverse of X: \\n {Xinv}\")\n",
    "\n",
    "print(f\"{X @ Xinv}\")\n",
    "print(f\"{Xinv @ X}\")\n",
    "\n"
   ]
  },
  {
   "cell_type": "markdown",
   "metadata": {},
   "source": [
    "### Norm matriks\n",
    "\n",
    "Konsep norm juga dapat diaplikasikan pada matriks yang merepresentasikan besaran skalar (*magnitude*) dari suatu matriks. \n",
    "Sebagai contoh, Euclidean norm dari matriks $\\mathbf{A} \\in \\mathbb{R}^{m \\times k}$ adalah:\n",
    "\n",
    "$$\n",
    "\\| \\mathbf{A} \\| = \\sqrt{\\left( \\sum_{i=1}^{m} \\sum_{j=1}^{k} a^2_{ij} \\right)}\n",
    "$$"
   ]
  },
  {
   "cell_type": "code",
   "execution_count": 21,
   "metadata": {},
   "outputs": [
    {
     "name": "stdout",
     "output_type": "stream",
     "text": [
      "A: \n",
      "[[0.16948915 0.73190351 0.43906954]\n",
      " [0.2951147  0.0850923  0.42833867]\n",
      " [0.33246834 0.77460925 0.85895458]\n",
      " [0.93854992 0.55337633 0.70783811]]\n",
      "Norm(A): 2.0424232050885256\n"
     ]
    }
   ],
   "source": [
    "A = np.random.random((4, 3))\n",
    "print(f\"A: \\n{A}\")\n",
    "\n",
    "print(f\"Norm(A): {np.linalg.norm(A)}\")"
   ]
  },
  {
   "cell_type": "markdown",
   "metadata": {},
   "source": []
  }
 ],
 "metadata": {
  "kernelspec": {
   "display_name": "Python 3",
   "language": "python",
   "name": "python3"
  },
  "language_info": {
   "codemirror_mode": {
    "name": "ipython",
    "version": 3
   },
   "file_extension": ".py",
   "mimetype": "text/x-python",
   "name": "python",
   "nbconvert_exporter": "python",
   "pygments_lexer": "ipython3",
   "version": "3.11.5"
  },
  "orig_nbformat": 4
 },
 "nbformat": 4,
 "nbformat_minor": 2
}
