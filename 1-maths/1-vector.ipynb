{
 "cells": [
  {
   "cell_type": "markdown",
   "metadata": {},
   "source": [
    "## Vektor"
   ]
  },
  {
   "cell_type": "markdown",
   "metadata": {},
   "source": [
    "Vektor merupakan sebuah objek yang terdiri dari bilangan-bilangan skalar terurut. Berikut ini contoh vektor dengan anggota bilangan berjumlah 4.\n",
    "\n",
    "$$\n",
    "\\mathbf{v} = \n",
    "\\begin{bmatrix}\n",
    "-1.1 \\\\\n",
    "0.0 \\\\\n",
    "3.6 \\\\\n",
    "-7.2\n",
    "\\end{bmatrix}\n",
    "\\text{atau}\n",
    "\\begin{pmatrix}\n",
    "-1.1 \\\\\n",
    "0.0 \\\\\n",
    "3.6 \\\\\n",
    "-7.2\n",
    "\\end{pmatrix}\n",
    "$$\n",
    "\n",
    "Jumlah anggota dari vektor biasa diistilahkan dengan *size* atau *dimension*.\n",
    "\n",
    "\n",
    "Jika bilangan-bilangan skalar tersebut berjenis bilangan riil, maka sebuah vektor dapat dinyatakan sebagai anggota di ruang bilangan riil/Euclidean: $\\mathbf{v} \\in \\mathbb{R}^n$, dimana $n$ merupakan jumlah elemen atau dimensi dari vektor."
   ]
  },
  {
   "cell_type": "markdown",
   "metadata": {},
   "source": [
    "### Pembentukan Vektor\n",
    "Pada NumPy, vektor direpresentasikan dalam array 1 dimensi."
   ]
  },
  {
   "cell_type": "code",
   "execution_count": 12,
   "metadata": {},
   "outputs": [
    {
     "name": "stdout",
     "output_type": "stream",
     "text": [
      "arr: [-1.1  0.   3.6 -7.2]\n",
      "shape: (4,)\n",
      "dimension: 1\n"
     ]
    }
   ],
   "source": [
    "import numpy as np\n",
    "\n",
    "arr = np.array([-1.1, 0.0, 3.6, -7.2])\n",
    "print(f\"arr: {arr}\") # print array values\n",
    "print(f\"shape: {arr.shape}\") # print array dimension\n",
    "print(f\"dimension: {arr.ndim}\") # print number of dimensions\n"
   ]
  },
  {
   "cell_type": "markdown",
   "metadata": {},
   "source": [
    "Pembentukan vektor di atas menggunakan fungsi `array()` dengan menuliskan nilai elemen-elemen secara eksplisit. \n",
    "Adapun cara-cara lain untuk membentuk vektor:"
   ]
  },
  {
   "cell_type": "markdown",
   "metadata": {},
   "source": [
    "**Membuat array dengan elemen terurut**"
   ]
  },
  {
   "cell_type": "code",
   "execution_count": 13,
   "metadata": {},
   "outputs": [
    {
     "name": "stdout",
     "output_type": "stream",
     "text": [
      "np.arange(<start>, <stop>, <step>)\n",
      "arr: [0 1 2 3 4 5 6 7 8 9]\n",
      "arr: [2. 3. 4. 5. 6. 7. 8. 9.]\n",
      "arr: [ 4  6  8 10 12 14 16 18 20 22 24]\n",
      "arr: [24 22 20 18 16 14 12 10  8  6  4]\n"
     ]
    }
   ],
   "source": [
    "print(f\"np.arange(<start>, <stop>, <step>)\")\n",
    "# Create a vector with elements of 0-9\n",
    "arr = np.arange(10)\n",
    "print(f\"arr: {arr}\")\n",
    "\n",
    "# Create a vector with elements of 2.0 - 9.0\n",
    "arr = np.arange(2, 10, dtype=float)\n",
    "print(f\"arr: {arr}\")\n",
    "\n",
    "# Create a vector with elements between 4 - 25 with a step of 2\n",
    "arr = np.arange(4, 25, 2)\n",
    "print(f\"arr: {arr}\")\n",
    "\n",
    "# Reverse the array\n",
    "print(f\"arr: {arr[::-1]}\")"
   ]
  },
  {
   "cell_type": "code",
   "execution_count": 14,
   "metadata": {},
   "outputs": [
    {
     "name": "stdout",
     "output_type": "stream",
     "text": [
      "np.linspace(<start>, <stop>, <num>)\n",
      "arr: [ 1.2    3.525  5.85   8.175 10.5  ]\n"
     ]
    }
   ],
   "source": [
    "print(f\"np.linspace(<start>, <stop>, <num>)\")\n",
    "# Create a vector with <num> elements that spaced evenly on a interval of <start> to <stop>\n",
    "arr = np.linspace(1.2, 10.5, 5)\n",
    "print(f\"arr: {arr}\")"
   ]
  },
  {
   "cell_type": "markdown",
   "metadata": {},
   "source": [
    "**Membuat array dengan seluruh elemen bernilai 0 atau 1**"
   ]
  },
  {
   "cell_type": "code",
   "execution_count": 15,
   "metadata": {},
   "outputs": [
    {
     "name": "stdout",
     "output_type": "stream",
     "text": [
      "zeros: [0. 0. 0. 0. 0.]\n",
      "ones: [1. 1. 1. 1. 1.]\n",
      "unit: [1. 0. 0. 0. 0.]\n"
     ]
    }
   ],
   "source": [
    "zeros = np.zeros(5)\n",
    "print(f\"zeros: {zeros}\")\n",
    "\n",
    "ones = np.ones(5)\n",
    "print(f\"ones: {ones}\")\n",
    "\n",
    "# Create a unit vector\n",
    "unit = np.copy(zeros)\n",
    "unit[0] = 1\n",
    "print(f\"unit: {unit}\")\n"
   ]
  },
  {
   "cell_type": "markdown",
   "metadata": {},
   "source": [
    "**Membuat array dengan elemen secara acak**"
   ]
  },
  {
   "cell_type": "code",
   "execution_count": 16,
   "metadata": {},
   "outputs": [
    {
     "name": "stdout",
     "output_type": "stream",
     "text": [
      "Random Vector\n",
      "arr (uniform dist): [0.31095772 0.04352973 0.01360001 0.47656456 0.69070391]\n",
      "arr (normal dist): [ 1.56303638 -0.20731237  1.59002681 -0.595999   -1.96090158]\n"
     ]
    }
   ],
   "source": [
    "print(f\"Random Vector\")\n",
    "# Create a random vector with 5 elements\n",
    "arr = np.random.rand(5) # samples from uniform distribution\n",
    "print(f\"arr (uniform dist): {arr}\")\n",
    "\n",
    "arr = np.random.randn(5) # samples from normal distribution (mean=0, std=1)\n",
    "print(f\"arr (normal dist): {arr}\")\n"
   ]
  },
  {
   "cell_type": "markdown",
   "metadata": {},
   "source": [
    "### Penggabungan Vektor\n",
    "Di beberapa kasus tertentu, akan bermanfaat untuk kita dapat menuliskan vektor yang dibentuk dari penggabungan (*concatenation* atau *stacking*).\n",
    "Misal terdapat 3 vektor $\\mathbf{a} \\in \\mathbb{R}^2$, $\\mathbf{b} \\in \\mathbb{R}^3$, dan $\\mathbf{c} \\in \\mathbb{R}^4$, penggabungan 3 vektor tersebut secara berurutan dapat ditulis menjadi:\n",
    "\n",
    "$$\n",
    "\\mathbf{d} = \n",
    "\\begin{bmatrix}\n",
    "\\mathbf{a} \\\\\n",
    "\\mathbf{b} \\\\ \n",
    "\\mathbf{c} \n",
    "\\end{bmatrix} \\in \\mathbb{R}^9\n",
    "$$\n",
    "\n",
    "Kita dapat menggunakan fungsi `np.concatenate()` untuk melakukan hal tersebut."
   ]
  },
  {
   "cell_type": "code",
   "execution_count": 17,
   "metadata": {},
   "outputs": [
    {
     "name": "stdout",
     "output_type": "stream",
     "text": [
      "d ((9,)): [0 1 0 1 2 0 1 2 3]\n"
     ]
    }
   ],
   "source": [
    "a = np.arange(0, 2)\n",
    "b = np.arange(0, 3)\n",
    "c = np.arange(0, 4)\n",
    "\n",
    "d = np.concatenate((a, b, c))\n",
    "print(f\"d ({d.shape}): {d}\")"
   ]
  },
  {
   "cell_type": "markdown",
   "metadata": {},
   "source": [
    "### Subvektor\n",
    "Pada persamaan di atas, kita dapat mengatakan bahwa $\\mathbf{a}$, $\\mathbf{b}$, atau $\\mathbf{c}$ merupakan subvektor dari $\\mathbf{d}$.\n",
    "\n",
    "Kita dapat menggunakan metode *slicing* untuk mendapatkan subvektor."
   ]
  },
  {
   "cell_type": "code",
   "execution_count": 18,
   "metadata": {},
   "outputs": [
    {
     "name": "stdout",
     "output_type": "stream",
     "text": [
      "a: [0 1], b: [0 1 2], c: [0 1 2 3]\n"
     ]
    }
   ],
   "source": [
    "a = d[:2]\n",
    "b = d[2:5]\n",
    "c = d[5:]\n",
    "\n",
    "print(f\"a: {a}, b: {b}, c: {c}\")"
   ]
  },
  {
   "cell_type": "markdown",
   "metadata": {},
   "source": [
    "### Operasi Aljabar pada Vektor"
   ]
  },
  {
   "cell_type": "markdown",
   "metadata": {},
   "source": [
    "**Penjumlahan dan pengurangan**"
   ]
  },
  {
   "cell_type": "code",
   "execution_count": 19,
   "metadata": {},
   "outputs": [
    {
     "name": "stdout",
     "output_type": "stream",
     "text": [
      "a + b = [-1.62670181  0.49688486 -0.72642097  3.79412341 -2.44354548  0.68432285]\n",
      "a - b = [-2.2573363   1.6255633  -2.1952052   0.58734448  0.51119509 -0.56178072]\n"
     ]
    }
   ],
   "source": [
    "a = np.random.randn(6)\n",
    "b = np.random.randn(6)\n",
    "c = a + b\n",
    "d = a - b\n",
    "print(f\"a + b = {c}\")\n",
    "print(f\"a - b = {d}\")"
   ]
  },
  {
   "cell_type": "markdown",
   "metadata": {},
   "source": [
    "### Perkalian dan Pembagian"
   ]
  },
  {
   "cell_type": "code",
   "execution_count": 20,
   "metadata": {},
   "outputs": [
    {
     "name": "stdout",
     "output_type": "stream",
     "text": [
      "a : [-1.94201905  1.06122408 -1.46081308  2.19073394 -0.9661752   0.06127107]\n",
      "scalar * vector: [-5.82605716  3.18367224 -4.38243925  6.57220183 -2.89852559  0.1838132 ]\n",
      "vector / scalar: [-0.64733968  0.35374136 -0.48693769  0.73024465 -0.3220584   0.02042369]\n"
     ]
    }
   ],
   "source": [
    "\n",
    "print(f\"a : {a}\")\n",
    "c = 3 * a # scalar * vector\n",
    "print(f\"scalar * vector: {c}\")\n",
    "\n",
    "c = a / 3 # vector / scalar\n",
    "print(f\"vector / scalar: {c}\")"
   ]
  },
  {
   "cell_type": "markdown",
   "metadata": {},
   "source": [
    "### Inner Product\n",
    "\n",
    "Diketahui 2 buah vektor $\\mathbf{a}, \\mathbf{b} \\in \\mathbb{R}^m$, *inner product* dari kedua vektor tersebut adalah\n",
    "\n",
    "$$\n",
    "c = \\langle \\mathbf{a}, \\mathbf{b} \\rangle = \\mathbf{a}^\\top \\mathbf{b} = \\sum_{i=1}^m a_i b_i \\in \\mathbb{R}\n",
    "$$"
   ]
  },
  {
   "cell_type": "markdown",
   "metadata": {},
   "source": [
    "Berikut beberapa cara untuk menghitung inner product dengan NumPy."
   ]
  },
  {
   "cell_type": "code",
   "execution_count": 21,
   "metadata": {},
   "outputs": [
    {
     "name": "stdout",
     "output_type": "stream",
     "text": [
      "c1: 2.6941212272560335, c2: 2.6941212272560335, c3: 2.6941212272560335\n"
     ]
    }
   ],
   "source": [
    "# Some ways to calculate the inner product of two vectors\n",
    "c1 = np.inner(a, b)\n",
    "c2 = np.dot(a, b)\n",
    "c3 = a @ b\n",
    "\n",
    "print(f\"c1: {c1}, c2: {c2}, c3: {c3}\")"
   ]
  },
  {
   "cell_type": "markdown",
   "metadata": {},
   "source": [
    "#"
   ]
  },
  {
   "cell_type": "markdown",
   "metadata": {},
   "source": [
    "**Net Present Value (NPV)**. Sebagai contoh, berikut penggunaan inner product untuk menghitung angka NPV dari suatu vektor *cash flow* $c$ dengan *interest rate* $r$."
   ]
  },
  {
   "cell_type": "code",
   "execution_count": 22,
   "metadata": {},
   "outputs": [
    {
     "name": "stdout",
     "output_type": "stream",
     "text": [
      "c: [0.1 0.1 0.1 1.1]\n",
      "d: [1.         0.95238095 0.90702948 0.8638376 ]\n",
      "NPV: 1.236162401468524\n"
     ]
    }
   ],
   "source": [
    "c = np.array([0.1, 0.1, 0.1, 1.1])\n",
    "n = len(c)\n",
    "r = 0.05 # 5% per-period interest rate\n",
    "d = np.array([(1+r)**-i for i in range(n)])\n",
    "print(f\"c: {c}\")\n",
    "print(f\"d: {d}\")\n",
    "NPV = c @ d\n",
    "print(f\"NPV: {NPV}\")"
   ]
  }
 ],
 "metadata": {
  "kernelspec": {
   "display_name": "Python 3",
   "language": "python",
   "name": "python3"
  },
  "language_info": {
   "codemirror_mode": {
    "name": "ipython",
    "version": 3
   },
   "file_extension": ".py",
   "mimetype": "text/x-python",
   "name": "python",
   "nbconvert_exporter": "python",
   "pygments_lexer": "ipython3",
   "version": "3.11.5"
  },
  "orig_nbformat": 4
 },
 "nbformat": 4,
 "nbformat_minor": 2
}
