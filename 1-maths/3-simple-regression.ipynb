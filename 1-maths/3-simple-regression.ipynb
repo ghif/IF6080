{
 "cells": [
  {
   "cell_type": "markdown",
   "metadata": {},
   "source": [
    "## Fungsi/Model Regresi\n",
    "\n",
    "Model regresi merupakan sebuah fungsi linear atau *affine* $f: \\mathbb{R}^m \\rightarrow \\mathbb{R}$ berbentuk\n",
    "\n",
    "$$\n",
    "f(\\mathbf{x}) = \\mathbf{w}^\\top \\mathbf{x} + b\n",
    "$$\n",
    "\n",
    "dimana $\\mathbf{w} \\in \\mathbb{R}^m$ dan $b \\in \\mathbb{R}$ merupakan parameter dari model yang perlu dicarikan nilainya berdasarkan observasi dari data. \n",
    "Vektor $\\mathbf{w}$ terkadang disebut sebagai bobot (*weights* atau *coefficients*) dan skalar $b$ disebut sebagai bias.\n",
    "\n",
    "Model regresi dapat dikatakan sebagai bentuk paling sederhana dari *supervised learning*.\n",
    "\n",
    "Perhatikan bahwa persamaan di atas dapat ditulis ulang dengan *inner product* secara murni:\n",
    "\n",
    "$$\n",
    "f(\\mathbf{x}) = \\begin{bmatrix}b & \\mathbf{w}\\end{bmatrix} \\begin{bmatrix}1 \\\\ \\mathbf{x}\\end{bmatrix} = \\boldsymbol{\\theta}^\\top \\mathbf{\\bar{x}}\n",
    "$$\n",
    "\n"
   ]
  },
  {
   "cell_type": "markdown",
   "metadata": {},
   "source": [
    "### Pengolahan data"
   ]
  }
 ],
 "metadata": {
  "kernelspec": {
   "display_name": "Python 3",
   "language": "python",
   "name": "python3"
  },
  "language_info": {
   "codemirror_mode": {
    "name": "ipython",
    "version": 3
   },
   "file_extension": ".py",
   "mimetype": "text/x-python",
   "name": "python",
   "nbconvert_exporter": "python",
   "pygments_lexer": "ipython3",
   "version": "3.10.5"
  },
  "orig_nbformat": 4
 },
 "nbformat": 4,
 "nbformat_minor": 2
}
