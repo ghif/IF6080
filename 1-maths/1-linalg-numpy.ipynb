{
 "cells": [
  {
   "cell_type": "markdown",
   "metadata": {},
   "source": [
    "# Aljabar Linear dengan Numpy\n",
    "\n",
    "NumPy (Numerical Python) merupakan sebuah library Python yang digunakan untuk memanipulasi *arrays* secara efisien, dikembangkan pertama kali pada tahun 2005 oleh Travis Oliphant. NumPy memiliki berbagai fungsionalitas untuk mengimplementasikan aljabar linear dan probabilitas. \n",
    "\n",
    "NumPy dikembangkan untuk mengatasi permasalahan *list*. Walaupun keduanya sama-sama dirancang untuk kebutuhan manipulasi *arrays*, objek utama pada NumPy, yaitu *ndarray*, memiliki komputasi hingga 50x lebih cepat dibandingkan *list*. \n",
    "\n",
    "Hal ini dikarenakan *array* dari NumPy disimpan pada sebuah tempat yang kontinu sehingga sebuah proses dan mengakses dan memanipulasi objek array NumPy lebih efisien. Ditambah pula dengan implementasi *backend* pada NumPy yang sebagian besar ditulis dalam C/C++."
   ]
  },
  {
   "cell_type": "markdown",
   "metadata": {},
   "source": [
    "### 1. Membuat array sederhana"
   ]
  },
  {
   "cell_type": "markdown",
   "metadata": {},
   "source": [
    "#### 1D array (vector)"
   ]
  },
  {
   "cell_type": "code",
   "execution_count": 11,
   "metadata": {},
   "outputs": [
    {
     "name": "stdout",
     "output_type": "stream",
     "text": [
      "[1 2 3 4 5]\n",
      "<class 'numpy.ndarray'>\n",
      "(5,)\n",
      "1\n"
     ]
    }
   ],
   "source": [
    "import numpy as np\n",
    "\n",
    "arr = np.array([1, 2, 3, 4, 5]) # 1D array or vector\n",
    "\n",
    "print(arr) # print the values of the array\n",
    "print(type(arr)) # print the type of the array\n",
    "print(arr.shape) # print the shape (dimension) of the array\n",
    "print(arr.ndim) # print the number of dimensions"
   ]
  },
  {
   "cell_type": "markdown",
   "metadata": {},
   "source": [
    "#### 2D array (matrix)"
   ]
  },
  {
   "cell_type": "code",
   "execution_count": 10,
   "metadata": {},
   "outputs": [
    {
     "name": "stdout",
     "output_type": "stream",
     "text": [
      "[[1 2 3]\n",
      " [4 5 6]]\n",
      "<class 'numpy.ndarray'>\n",
      "(2, 3)\n",
      "2\n"
     ]
    }
   ],
   "source": [
    "arr = np.array([[1, 2, 3], [4, 5, 6]]) # 2D array or matrix\n",
    "\n",
    "print(arr) # print the values of the array\n",
    "print(type(arr)) # print the type of the array\n",
    "print(arr.shape) # print the shape (dimension) of the array\n",
    "print(arr.ndim) # print the number of dimensions"
   ]
  }
 ],
 "metadata": {
  "kernelspec": {
   "display_name": "Python 3",
   "language": "python",
   "name": "python3"
  },
  "language_info": {
   "codemirror_mode": {
    "name": "ipython",
    "version": 3
   },
   "file_extension": ".py",
   "mimetype": "text/x-python",
   "name": "python",
   "nbconvert_exporter": "python",
   "pygments_lexer": "ipython3",
   "version": "3.10.5"
  },
  "orig_nbformat": 4
 },
 "nbformat": 4,
 "nbformat_minor": 2
}
