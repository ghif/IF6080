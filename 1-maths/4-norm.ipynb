{
 "cells": [
  {
   "cell_type": "markdown",
   "metadata": {},
   "source": [
    "## Norm\n",
    "*Norm* merupakan suatu fungsi yang mengkonversi vektor menjadi nilai besaran skalar, ditulis dengan notasi $\\| \\mathbf{x} \\|$.\n",
    "\n",
    "Salah satu kasus khusus *norm* adalah Euclidean norm, yaitu panjang vektor:\n",
    "\n",
    "$$\n",
    "\\| \\mathbf{x} \\| = \\sqrt{x_1^2 + \\cdots + x_m^2} = \\sqrt{\\mathbf{x}^\\top \\mathbf{x}}\n",
    "$$\n",
    "\n"
   ]
  },
  {
   "cell_type": "markdown",
   "metadata": {},
   "source": [
    "Notasi norm dapat digunakan dalam berbagai pengukuran. Sebagai contoh: jarak, sudut, standar deviasi, korelasi."
   ]
  },
  {
   "cell_type": "markdown",
   "metadata": {},
   "source": [
    "Dengan menggunakan NumPy, norm dapat dihitung sebagai berikut:"
   ]
  },
  {
   "cell_type": "code",
   "execution_count": 2,
   "metadata": {},
   "outputs": [
    {
     "name": "stdout",
     "output_type": "stream",
     "text": [
      "x = [0.56585468 0.66836403 0.09021524 0.26841234 0.9452334 ]\n",
      "norm_x1 = 1.3192998722107452\n",
      "norm_x2 = 1.3192998722107452\n"
     ]
    }
   ],
   "source": [
    "import numpy as np\n",
    "\n",
    "x = np.random.random(5)\n",
    "print(f\"x = {x}\")\n",
    "\n",
    "# Using basic functions\n",
    "norm_x1 = np.sqrt(x @ x)\n",
    "print(f\"norm_x1 = {norm_x1}\")\n",
    "\n",
    "# Using np.linalg.norm\n",
    "norm_x2 = np.linalg.norm(x)\n",
    "print(f\"norm_x2 = {norm_x2}\")\n"
   ]
  },
  {
   "cell_type": "markdown",
   "metadata": {},
   "source": [
    "#### Sifat-sifat norm\n",
    "\n",
    "Diketahui vektor $\\mathbf{x}, \\mathbf{y} \\in \\mathbb{R}^m$ dan skalar $\\beta$, beberapa sifat dari Euclidean norm adalah sebagai berikut:\n",
    "\n",
    "1. *Nonnegative homogeneity*: $\\| \\beta \\mathbf{x} \\| = \\beta \\| \\mathbf{x} \\| $. \n",
    "2. *Triangle inequality*: $\\| \\mathbf{x} + \\mathbf{y} \\| \\leq \\| \\mathbf{x} \\| + \\| \\mathbf{y} \\|$.\n",
    "3. *Nonnegativity*: $\\| \\mathbf{x} \\| \\geq 0 $.\n",
    "4. *Definiteness*: $\\| \\mathbf{x} \\| = 0$ only if $\\mathbf{x} = \\mathbf{0}$.\n"
   ]
  },
  {
   "cell_type": "markdown",
   "metadata": {},
   "source": [
    "### Jarak\n",
    "Jarak antara dua vektor pada ruang Euclidean, $d: \\mathbb{R}^m \\times \\mathbb{R}^m \\rightarrow \\mathbb{R}$ dapat ditulis dengan notasi *norm*:\n",
    "\n",
    "$$\n",
    "d(\\mathbf{x}, \\mathbf{y}) = \\| \\mathbf{x} - \\mathbf{y} \\|\n",
    "$$"
   ]
  },
  {
   "cell_type": "code",
   "execution_count": 5,
   "metadata": {},
   "outputs": [
    {
     "name": "stdout",
     "output_type": "stream",
     "text": [
      "x: [0.79263553 0.79903806 0.4928758  0.7281385  0.44522423 0.59525866]\n",
      "y: [0.43817362 0.36805009 0.284341   0.30985327 0.81396634 0.09451272]\n",
      "distance: 0.9573716150601609\n"
     ]
    }
   ],
   "source": [
    "# Euclidean Distance measure\n",
    "x = np.random.random(6)\n",
    "y = np.random.random(6)\n",
    "\n",
    "d = np.linalg.norm(x - y)\n",
    "print(f\"x: {x}\")\n",
    "print(f\"y: {y}\")\n",
    "print(f\"distance: {d}\")"
   ]
  },
  {
   "cell_type": "code",
   "execution_count": null,
   "metadata": {},
   "outputs": [],
   "source": []
  }
 ],
 "metadata": {
  "kernelspec": {
   "display_name": "Python 3",
   "language": "python",
   "name": "python3"
  },
  "language_info": {
   "codemirror_mode": {
    "name": "ipython",
    "version": 3
   },
   "file_extension": ".py",
   "mimetype": "text/x-python",
   "name": "python",
   "nbconvert_exporter": "python",
   "pygments_lexer": "ipython3",
   "version": "3.10.5"
  },
  "orig_nbformat": 4
 },
 "nbformat": 4,
 "nbformat_minor": 2
}
