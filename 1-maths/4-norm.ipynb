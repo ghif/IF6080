{
 "cells": [
  {
   "cell_type": "markdown",
   "metadata": {},
   "source": [
    "## Norm\n",
    "*Norm* merupakan suatu fungsi yang mengkonversi vektor menjadi nilai besaran skalar, ditulis dengan notasi $\\| \\mathbf{x} \\|$.\n",
    "\n",
    "Salah satu kasus khusus *norm* adalah Euclidean norm, yaitu panjang vektor:\n",
    "\n",
    "$$\n",
    "\\| \\mathbf{x} \\| = \\sqrt{x_1^2 + \\cdots + x_m^2} = \\sqrt{\\mathbf{x}^\\top \\mathbf{x}}\n",
    "$$\n",
    "\n"
   ]
  },
  {
   "cell_type": "markdown",
   "metadata": {},
   "source": [
    "Notasi norm dapat digunakan dalam berbagai pengukuran. Sebagai contoh: jarak, sudut, standar deviasi, korelasi."
   ]
  },
  {
   "cell_type": "markdown",
   "metadata": {},
   "source": [
    "Dengan menggunakan NumPy, norm dapat dihitung sebagai berikut:"
   ]
  },
  {
   "cell_type": "code",
   "execution_count": 2,
   "metadata": {},
   "outputs": [
    {
     "name": "stdout",
     "output_type": "stream",
     "text": [
      "x = [0.11653334 0.26977906 0.84648728 0.18297748 0.3790165 ]\n",
      "norm_x1 = 0.9899675450756109\n",
      "norm_x2 = 0.9899675450756109\n"
     ]
    }
   ],
   "source": [
    "import numpy as np\n",
    "\n",
    "x = np.random.random(5)\n",
    "print(f\"x = {x}\")\n",
    "\n",
    "# Using basic functions\n",
    "norm_x1 = np.sqrt(x @ x)\n",
    "print(f\"norm_x1 = {norm_x1}\")\n",
    "\n",
    "# Using np.linalg.norm\n",
    "norm_x2 = np.linalg.norm(x)\n",
    "print(f\"norm_x2 = {norm_x2}\")\n"
   ]
  },
  {
   "cell_type": "markdown",
   "metadata": {},
   "source": [
    "#### Sifat-sifat norm\n",
    "\n",
    "Diketahui vektor $\\mathbf{x}, \\mathbf{y} \\in \\mathbb{R}^m$ dan skalar $\\beta$, beberapa sifat dari Euclidean norm adalah sebagai berikut:\n",
    "\n",
    "1. *Nonnegative homogeneity*: $\\| \\beta \\mathbf{x} \\| = \\beta \\| \\mathbf{x} \\| $. \n",
    "2. *Triangle inequality*: $\\| \\mathbf{x} + \\mathbf{y} \\| \\leq \\| \\mathbf{x} \\| + \\| \\mathbf{y} \\|$.\n",
    "3. *Nonnegativity*: $\\| \\mathbf{x} \\| \\geq 0 $.\n",
    "4. *Definiteness*: $\\| \\mathbf{x} \\| = 0$ only if $\\mathbf{x} = \\mathbf{0}$.\n"
   ]
  },
  {
   "cell_type": "markdown",
   "metadata": {},
   "source": [
    "### Jarak\n",
    "Jarak antara dua vektor pada ruang Euclidean, $d: \\mathbb{R}^m \\times \\mathbb{R}^m \\rightarrow \\mathbb{R}$ dapat ditulis dengan notasi *norm*:\n",
    "\n",
    "$$\n",
    "d(\\mathbf{x}, \\mathbf{y}) = \\| \\mathbf{x} - \\mathbf{y} \\|\n",
    "$$"
   ]
  },
  {
   "cell_type": "code",
   "execution_count": 3,
   "metadata": {},
   "outputs": [
    {
     "name": "stdout",
     "output_type": "stream",
     "text": [
      "x: [0.71052893 0.41616108 0.3597139  0.10789986 0.4019438  0.89829942]\n",
      "y: [0.52277548 0.70950747 0.14966862 0.66486147 0.23211412 0.40073349]\n",
      "distance: 0.8672039503041167\n"
     ]
    }
   ],
   "source": [
    "# Euclidean Distance measure\n",
    "x = np.random.random(6)\n",
    "y = np.random.random(6)\n",
    "\n",
    "d = np.linalg.norm(x - y)\n",
    "print(f\"x: {x}\")\n",
    "print(f\"y: {y}\")\n",
    "print(f\"distance: {d}\")"
   ]
  },
  {
   "cell_type": "markdown",
   "metadata": {},
   "source": [
    "### Nearest Neighbor\n",
    "Mencari *tetangga terdekat* dari $\\mathbf{x}$ pada suatu dataset $\\mathcal{D} = \\{ \\mathbf{z}_1, \\ldots, \\mathbf{z}_n \\}$ lalu mengembalikan index dari tetangga terdekat."
   ]
  },
  {
   "cell_type": "code",
   "execution_count": 12,
   "metadata": {},
   "outputs": [
    {
     "name": "stdout",
     "output_type": "stream",
     "text": [
      "dists: [5.830951894845301, 4.47213595499958, 2.0615528128088303, 2.23606797749979, 4.123105625617661, 4.0]\n",
      "nn_idx: 2\n"
     ]
    }
   ],
   "source": [
    "x = np.array([5, 6])\n",
    "D = ([2, 1], [7, 2], [5.5, 4], [4, 8], [1, 5], [9, 6])\n",
    "\n",
    "dists = [np.linalg.norm(x - D[i]) for i in range(len(D))]\n",
    "nn_idx = np.argmin(dists)\n",
    "\n",
    "print(f\"dists: {dists}\")\n",
    "print(f\"nn_idx: {nn_idx}\")"
   ]
  },
  {
   "cell_type": "markdown",
   "metadata": {},
   "source": [
    "### Sudut antar 2 vektor\n",
    "\n",
    "Inner product dari 2 vektor $\\mathbf{x}, \\mathbf{y} \\in \\mathbb{R}^m$ dapat dinyatakan dalam norm dan sudut:\n",
    "\n",
    "$$\n",
    "\\mathbf{x}^\\top \\mathbf{y} = \\| \\mathbf{x} \\| \\| \\mathbf{y} \\| \\cos(\\theta)\n",
    "$$\n",
    "\n",
    "Dengan demikian, didapatkan persamaan sudut antar 2 vektor:\n",
    "$$\n",
    "\\theta = \\arccos{\\left( \\frac{ \\mathbf{x}^\\top \\mathbf{y} } {\\| \\mathbf{x} \\| \\| \\mathbf{y} \\|} \\right)}\n",
    "$$"
   ]
  },
  {
   "cell_type": "code",
   "execution_count": 15,
   "metadata": {},
   "outputs": [
    {
     "name": "stdout",
     "output_type": "stream",
     "text": [
      "angle : 55.51861062801842\n"
     ]
    }
   ],
   "source": [
    "ang = lambda x, y: np.arccos(x @ y / (np.linalg.norm(x) * np.linalg.norm(y)))\n",
    "\n",
    "a = np.array([1, 2, -1])\n",
    "b = np.array([2, 0, -3])\n",
    "\n",
    "angle = ang(a, b) * 360 / (2 * np.pi)\n",
    "print(f\"angle : {angle}\")"
   ]
  }
 ],
 "metadata": {
  "kernelspec": {
   "display_name": "Python 3",
   "language": "python",
   "name": "python3"
  },
  "language_info": {
   "codemirror_mode": {
    "name": "ipython",
    "version": 3
   },
   "file_extension": ".py",
   "mimetype": "text/x-python",
   "name": "python",
   "nbconvert_exporter": "python",
   "pygments_lexer": "ipython3",
   "version": "3.11.5"
  },
  "orig_nbformat": 4
 },
 "nbformat": 4,
 "nbformat_minor": 2
}
