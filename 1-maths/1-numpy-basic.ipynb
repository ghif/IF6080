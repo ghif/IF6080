{
 "cells": [
  {
   "cell_type": "markdown",
   "metadata": {},
   "source": [
    "# Pengenalan NumPy\n",
    "\n",
    "NumPy (Numerical Python) merupakan sebuah library Python yang digunakan untuk memanipulasi *arrays* secara efisien, dikembangkan pertama kali pada tahun 2005 oleh Travis Oliphant. NumPy memiliki berbagai fungsionalitas untuk mengimplementasikan aljabar linear dan probabilitas. \n",
    "\n",
    "NumPy dikembangkan untuk mengatasi permasalahan *list*. Walaupun keduanya sama-sama dirancang untuk kebutuhan manipulasi *arrays*, objek utama pada NumPy, yaitu *ndarray*, memiliki komputasi hingga 50x lebih cepat dibandingkan *list*. \n",
    "\n",
    "Hal ini dikarenakan *array* dari NumPy disimpan pada sebuah tempat yang kontinu sehingga sebuah proses dan mengakses dan memanipulasi objek array NumPy lebih efisien. Ditambah pula dengan implementasi *backend* pada NumPy yang sebagian besar ditulis dalam C/C++."
   ]
  },
  {
   "cell_type": "markdown",
   "metadata": {},
   "source": []
  },
  {
   "cell_type": "markdown",
   "metadata": {},
   "source": [
    "### 1. Membuat array sederhana"
   ]
  },
  {
   "cell_type": "markdown",
   "metadata": {},
   "source": [
    "#### 1D array (vector)"
   ]
  },
  {
   "cell_type": "code",
   "execution_count": 2,
   "metadata": {},
   "outputs": [
    {
     "name": "stdout",
     "output_type": "stream",
     "text": [
      "[1 2 3 4 5]\n",
      "<class 'numpy.ndarray'>\n",
      "(5,)\n",
      "1\n"
     ]
    }
   ],
   "source": [
    "import numpy as np\n",
    "\n",
    "arr = np.array([1, 2, 3, 4, 5]) # 1D array or vector\n",
    "\n",
    "print(arr) # print the values of the array\n",
    "print(type(arr)) # print the type of the array\n",
    "print(arr.shape) # print the shape (dimension) of the array\n",
    "print(arr.ndim) # print the number of dimensions"
   ]
  },
  {
   "cell_type": "markdown",
   "metadata": {},
   "source": [
    "#### 2D array (matrix)"
   ]
  },
  {
   "cell_type": "code",
   "execution_count": 3,
   "metadata": {},
   "outputs": [
    {
     "name": "stdout",
     "output_type": "stream",
     "text": [
      "[[1 2 3]\n",
      " [4 5 6]]\n",
      "<class 'numpy.ndarray'>\n",
      "(2, 3)\n",
      "2\n"
     ]
    }
   ],
   "source": [
    "arr2 = np.array([[1, 2, 3], [4, 5, 6]]) # 2D array or matrix\n",
    "\n",
    "print(arr2) # print the values of the array\n",
    "print(type(arr2)) # print the type of the array\n",
    "print(arr2.shape) # print the shape (dimension) of the array\n",
    "print(arr2.ndim) # print the number of dimensions"
   ]
  },
  {
   "cell_type": "markdown",
   "metadata": {},
   "source": [
    "### 2. Array Indexing and Slicing\n",
    "\n",
    "Array indexing: mengakses elemen dari array melalui angka indeks.\n",
    "\n",
    "Slicing: mengambil beberapa elemen atau sub-himpunan dari array dengan menggunakan rentang index."
   ]
  },
  {
   "cell_type": "code",
   "execution_count": 6,
   "metadata": {},
   "outputs": [
    {
     "name": "stdout",
     "output_type": "stream",
     "text": [
      "indexing: 1 + 4 = 5\n",
      "slicing: s = [2 3]\n"
     ]
    }
   ],
   "source": [
    "arr = np.array([1, 2, 3, 4])\n",
    "\n",
    "# indexing\n",
    "x = arr[0] + arr[3]\n",
    "print(f\"indexing: {arr[0]} + {arr[3]} = {x}\")\n",
    "\n",
    "# slicing\n",
    "s = arr[1:3]\n",
    "print(f\"slicing: s = {s}\")"
   ]
  },
  {
   "cell_type": "markdown",
   "metadata": {},
   "source": [
    "### 3. Data Types"
   ]
  },
  {
   "cell_type": "code",
   "execution_count": 7,
   "metadata": {},
   "outputs": [
    {
     "name": "stdout",
     "output_type": "stream",
     "text": [
      "int64\n"
     ]
    }
   ],
   "source": [
    "print(arr.dtype)"
   ]
  },
  {
   "cell_type": "markdown",
   "metadata": {},
   "source": [
    "### 4. Copy vs View"
   ]
  },
  {
   "cell_type": "markdown",
   "metadata": {},
   "source": [
    "### 5. Array Shape"
   ]
  },
  {
   "cell_type": "markdown",
   "metadata": {},
   "source": []
  }
 ],
 "metadata": {
  "kernelspec": {
   "display_name": "Python 3",
   "language": "python",
   "name": "python3"
  },
  "language_info": {
   "codemirror_mode": {
    "name": "ipython",
    "version": 3
   },
   "file_extension": ".py",
   "mimetype": "text/x-python",
   "name": "python",
   "nbconvert_exporter": "python",
   "pygments_lexer": "ipython3",
   "version": "3.10.5"
  },
  "orig_nbformat": 4
 },
 "nbformat": 4,
 "nbformat_minor": 2
}
